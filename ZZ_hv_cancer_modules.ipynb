{
 "cells": [
  {
   "cell_type": "code",
   "execution_count": null,
   "metadata": {},
   "outputs": [],
   "source": [
    "import warnings\n",
    "warnings.simplefilter(action='ignore', category=FutureWarning)\n",
    "\n",
    "import scanpy as sc\n",
    "from hv_cancer_modules import DotPlot, UMAPPlot\n",
    "import holoviews as hv \n",
    "hv.extension('bokeh')"
   ]
  },
  {
   "cell_type": "code",
   "execution_count": null,
   "metadata": {},
   "outputs": [],
   "source": [
    "marker_genes = {\n",
    "    \"CD14+ Mono\": [\"FCN1\", \"CD14\"],\n",
    "    \"CD16+ Mono\": [\"TCF7L2\", \"FCGR3A\", \"LYN\"],\n",
    "    # Note: DMXL2 should be negative\n",
    "    \"cDC2\": [\"CST3\", \"COTL1\", \"LYZ\", \"DMXL2\", \"CLEC10A\", \"FCER1A\"],\n",
    "    \"Erythroblast\": [\"MKI67\", \"HBA1\", \"HBB\"],\n",
    "    # Note HBM and GYPA are negative markers\n",
    "    \"Proerythroblast\": [\"CDK6\", \"SYNGR1\", \"HBM\", \"GYPA\"],\n",
    "    \"NK\": [\"GNLY\", \"NKG7\", \"CD247\", \"FCER1G\", \"TYROBP\", \"KLRG1\", \"FCGR3A\"],\n",
    "    \"ILC\": [\"ID2\", \"PLCG2\", \"GNLY\", \"SYNE1\"],\n",
    "    \"Naive CD20+ B\": [\"MS4A1\", \"IL4R\", \"IGHD\", \"FCRL1\", \"IGHM\"],\n",
    "    # Note IGHD and IGHM are negative markers\n",
    "    \"B cells\": [\n",
    "        \"MS4A1\",\n",
    "        \"ITGB1\",\n",
    "        \"COL4A4\",\n",
    "        \"PRDM1\",\n",
    "        \"IRF4\",\n",
    "        \"PAX5\",\n",
    "        \"BCL11A\",\n",
    "        \"BLK\",\n",
    "        \"IGHD\",\n",
    "        \"IGHM\",\n",
    "    ],\n",
    "    \"Plasma cells\": [\"MZB1\", \"HSP90B1\", \"FNDC3B\", \"PRDM1\", \"IGKC\", \"JCHAIN\"],\n",
    "    # Note PAX5 is a negative marker\n",
    "    \"Plasmablast\": [\"XBP1\", \"PRDM1\", \"PAX5\"],\n",
    "    \"CD4+ T\": [\"CD4\", \"IL7R\", \"TRBC2\"],\n",
    "    \"CD8+ T\": [\"CD8A\", \"CD8B\", \"GZMK\", \"GZMA\", \"CCL5\", \"GZMB\", \"GZMH\", \"GZMA\"],\n",
    "    \"T naive\": [\"LEF1\", \"CCR7\", \"TCF7\"],\n",
    "    \"pDC\": [\"GZMB\", \"IL3RA\", \"COBLL1\", \"TCF4\"],\n",
    "}"
   ]
  },
  {
   "cell_type": "code",
   "execution_count": null,
   "metadata": {},
   "outputs": [],
   "source": [
    "adata = sc.read_h5ad('data/adata-annotated.h5ad') # groupby='cell_type',\n",
    "\n",
    "# adata = sc.datasets.pbmc3k_processed() # groupby='louvain',\n",
    "\n",
    "# adata = sc.datasets.paul15()\n",
    "# sc.pp.pca(adata)\n",
    "# sc.pp.neighbors(adata)\n",
    "# sc.tl.umap(adata)"
   ]
  },
  {
   "cell_type": "code",
   "execution_count": null,
   "metadata": {},
   "outputs": [],
   "source": [
    "adata"
   ]
  },
  {
   "cell_type": "markdown",
   "metadata": {},
   "source": [
    "### Some test data plotting with the anndata interface"
   ]
  },
  {
   "cell_type": "code",
   "execution_count": null,
   "metadata": {},
   "outputs": [],
   "source": [
    "# adata = sc.datasets.paul15()\n",
    "# sc.pp.pca(adata)\n",
    "# sc.pp.neighbors(adata)\n",
    "# sc.tl.umap(adata)\n",
    "\n",
    "# scatter = (hv.Scatter(adata, \"obsm.X_umap.0\", [\"obsm.X_umap.1\", \"obs.paul15_clusters\"])\n",
    "#     .opts(color=\"obs.paul15_clusters\", cmap=\"Category20\",\n",
    "#           width=500, height=300, legend_position='left', legend_cols=10)\n",
    "#     .hist()\n",
    "# )\n",
    "# scatter"
   ]
  },
  {
   "cell_type": "markdown",
   "metadata": {},
   "source": [
    "## hv mod dotplot"
   ]
  },
  {
   "cell_type": "code",
   "execution_count": null,
   "metadata": {},
   "outputs": [],
   "source": [
    "dot_plot = DotPlot(\n",
    "    adata=adata,\n",
    "    marker_genes=marker_genes,\n",
    "    groupby='cell_type',\n",
    "    max_dot_size=10,\n",
    ")\n",
    "dot_plot.opts(\n",
    "    color='mean_expression_norm'\n",
    "    # fontsize={\"labels\": 10, \"ticks\": 8}\n",
    ")"
   ]
  },
  {
   "cell_type": "markdown",
   "metadata": {},
   "source": [
    "## hv mod UMAPPlot"
   ]
  },
  {
   "cell_type": "code",
   "execution_count": null,
   "metadata": {},
   "outputs": [],
   "source": [
    "import pandas as pd\n",
    "umap_df = pd.DataFrame(adata.obsm[\"X_umap\"], columns=[\"UMAP1\", \"UMAP2\"])\n",
    "obs_df = adata.obs.join(umap_df.set_index(adata.obs.index))"
   ]
  },
  {
   "cell_type": "code",
   "execution_count": null,
   "metadata": {},
   "outputs": [],
   "source": [
    "umap_opts = dict(\n",
    "    legend_position='right',\n",
    "    responsive=True,\n",
    "    height=400,\n",
    "    tools=[\"box_select\", \"lasso_select\"],\n",
    "    xlabel=\"UMAP1\",\n",
    "    ylabel=\"UMAP2\",\n",
    ")"
   ]
  },
  {
   "cell_type": "code",
   "execution_count": null,
   "metadata": {},
   "outputs": [],
   "source": [
    "umap_plot = hv.Points(obs_df, [\"UMAP1\", \"UMAP2\"]).opts(**umap_opts, color=\"cell_type\", cmap='Category20')"
   ]
  },
  {
   "cell_type": "code",
   "execution_count": null,
   "metadata": {},
   "outputs": [],
   "source": [
    "import holoviews.operation.datashader as hd\n",
    "import datashader as ds\n",
    "\n",
    "def create_umap_plot(umap_element, labels=False):\n",
    "    # Apply datashade operation\n",
    "    umap_shaded = hd.datashade(\n",
    "        umap_element,\n",
    "        aggregator=ds.count_cat('cell_type'),\n",
    "        cmap='Category20',\n",
    "        min_alpha=40,  # Adjust transparency\n",
    "    ).opts(**umap_opts)\n",
    "    \n",
    "    # Apply dynspread to enhance visibility of sparse points\n",
    "    umap_spread = hd.dynspread(umap_shaded, threshold=0.5, max_px=4)\n",
    "    \n",
    "    if labels:\n",
    "        # Compute median positions for labels\n",
    "        data = umap_element.data\n",
    "        label_df = data.groupby('cell_type')[['UMAP1', 'UMAP2']].median().reset_index()\n",
    "        labels = hv.Labels(label_df, kdims=['UMAP1', 'UMAP2'], vdims=['cell_type'])\n",
    "        labels = labels.opts(\n",
    "            text_font_size='8pt',\n",
    "            text_color='black',\n",
    "            text_alpha=0.8,\n",
    "            text_font_style='bold',\n",
    "        )\n",
    "        return umap_spread * labels\n",
    "    else:\n",
    "        return umap_spread\n"
   ]
  },
  {
   "cell_type": "code",
   "execution_count": null,
   "metadata": {},
   "outputs": [],
   "source": [
    "ds_umap_plot = create_umap_plot(umap_plot, labels=True)\n",
    "ds_umap_plot"
   ]
  },
  {
   "cell_type": "code",
   "execution_count": null,
   "metadata": {},
   "outputs": [],
   "source": []
  }
 ],
 "metadata": {
  "kernelspec": {
   "display_name": "Python 3 (ipykernel)",
   "language": "python",
   "name": "python3"
  },
  "language_info": {
   "codemirror_mode": {
    "name": "ipython",
    "version": 3
   },
   "file_extension": ".py",
   "mimetype": "text/x-python",
   "name": "python",
   "nbconvert_exporter": "python",
   "pygments_lexer": "ipython3",
   "version": "3.12.7"
  }
 },
 "nbformat": 4,
 "nbformat_minor": 4
}
