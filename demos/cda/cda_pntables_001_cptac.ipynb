{
 "cells": [
  {
   "cell_type": "markdown",
   "id": "908af442-c3fb-45aa-9059-1f5bb0b1cea1",
   "metadata": {},
   "source": [
    "# Find all the CPTAC subjects"
   ]
  },
  {
   "cell_type": "code",
   "execution_count": null,
   "id": "8770d04d-c70c-46bd-bc36-58f2a6529004",
   "metadata": {
    "tags": [
     "hide_code"
    ]
   },
   "outputs": [],
   "source": [
    "import numpy as np\n",
    "import pandas as pd\n",
    "# from itables import init_notebook_mode, show\n",
    "# init_notebook_mode(all_interactive=True)\n",
    "# import itables.options as opt\n",
    "\n",
    "# opt.classes=\"display nowrap compact\"\n",
    "# opt.buttons=[\"copyHtml5\", \"csvHtml5\", \"excelHtml5\"]\n",
    "# opt.maxBytes=0"
   ]
  },
  {
   "cell_type": "code",
   "execution_count": null,
   "id": "11b76f87-7fa7-4291-9ea9-1759a5ad1acc",
   "metadata": {
    "tags": [
     "hide_code"
    ]
   },
   "outputs": [],
   "source": [
    "from cdapython import tables, columns, column_values, fetch_rows, summary_counts\n",
    "import pntables"
   ]
  },
  {
   "cell_type": "markdown",
   "id": "c5b74658-fdbf-4b52-8fbc-08254180aa55",
   "metadata": {},
   "source": [
    "I'm a researcher, and I want to reuse data from the Clinical Proteomic Tumor Analysis Consortium, but it's been stored across multiple data centers. I just want an easy way to track it all down."
   ]
  },
  {
   "cell_type": "markdown",
   "id": "f4c886b1-f65e-4b4a-86da-1fcadea74a9a",
   "metadata": {},
   "source": [
    "First, decide what column to search. I'm looking for columns that have to do with `project`:"
   ]
  },
  {
   "cell_type": "code",
   "execution_count": null,
   "id": "5626eba3-805b-44e8-8143-ac412953b25e",
   "metadata": {},
   "outputs": [],
   "source": [
    "columns(column=[\"*project*\"])"
   ]
  },
  {
   "cell_type": "markdown",
   "id": "a0307e2a-bb36-41be-b6fe-7e7e5ad66118",
   "metadata": {},
   "source": [
    "`member_of_research_project` has the definition I'm looking for, so I'm going to search that for `cptac`. I want both subject and researchsubject info, so I'm requesting rows that match `cptac` from those two tables, joined:"
   ]
  },
  {
   "cell_type": "code",
   "execution_count": null,
   "id": "1b72cf69-27c8-4f81-af0a-d02832bba77b",
   "metadata": {},
   "outputs": [],
   "source": [
    "fetch_rows(table=\"subject\", match_all=\"member_of_research_project = *cptac*\", link_to_table='researchsubject')"
   ]
  },
  {
   "cell_type": "code",
   "execution_count": null,
   "id": "13171e2b-a454-415a-b3da-18f402477d83",
   "metadata": {
    "scrolled": true
   },
   "outputs": [],
   "source": [
    "# fetch_rows(table=\"subject\", match_all=\"member_of_research_project = *cptac*\", link_to_table='researchsubject', return_data_as='tsv', output_file='my_file.tsv')"
   ]
  },
  {
   "cell_type": "markdown",
   "id": "5d7c24a0-58d6-4d06-b59e-aae8d8fc9b52",
   "metadata": {},
   "source": [
    "This looks like what I want, so I'll re-run the query but save it to a file this time:"
   ]
  }
 ],
 "metadata": {
  "kernelspec": {
   "display_name": "Python 3",
   "language": "python",
   "name": "python3"
  },
  "language_info": {
   "codemirror_mode": {
    "name": "ipython",
    "version": 3
   },
   "file_extension": ".py",
   "mimetype": "text/x-python",
   "name": "python",
   "nbconvert_exporter": "python",
   "pygments_lexer": "ipython3",
   "version": "3.11.11"
  }
 },
 "nbformat": 4,
 "nbformat_minor": 5
}
