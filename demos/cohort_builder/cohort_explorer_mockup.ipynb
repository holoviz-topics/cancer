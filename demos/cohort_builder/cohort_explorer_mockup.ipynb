{
 "cells": [
  {
   "cell_type": "code",
   "execution_count": null,
   "id": "4360c4d0-ec23-46a1-90e3-46698a21972c",
   "metadata": {},
   "outputs": [],
   "source": [
    "import panel as pn\n",
    "import numpy as np\n",
    "import pandas as pd\n",
    "import holoviews as hv\n",
    "import squarify\n",
    "import colorcet as cc\n",
    "\n",
    "from cdapython import fetch_rows\n",
    "from lumen.ai import ExplorerUI\n",
    "\n",
    "pn.extension('filedropper') #\"vega\", \"filedropper\", #\"vega\", \"filedropper\", \n",
    "hv.extension(\"bokeh\")"
   ]
  },
  {
   "cell_type": "code",
   "execution_count": null,
   "id": "15ee1542-9ae3-4365-bd67-75b06ac3b8e3",
   "metadata": {},
   "outputs": [],
   "source": [
    "def get_cda_table(table='diagnosis'):\n",
    "    print(f\"Fetching '{table}' table from CDA\")\n",
    "    df = fetch_rows(f'{table}')\n",
    "    print(f\"CDA '{table}' shape: {df.shape}\")\n",
    "    return df"
   ]
  },
  {
   "cell_type": "code",
   "execution_count": null,
   "id": "ea8982e0-08c3-4650-bf32-465bbaa4c755",
   "metadata": {},
   "outputs": [],
   "source": [
    "df = get_cda_table(table='diagnosis')\n",
    "col_list = list(df.columns)"
   ]
  },
  {
   "cell_type": "code",
   "execution_count": null,
   "id": "03c101cc-4e59-4f4f-af1c-5b6f97b2d742",
   "metadata": {},
   "outputs": [],
   "source": [
    "col_list = [\n",
    "    \"primary_diagnosis\",\n",
    "    \"morphology\",\n",
    "    \"stage\",\n",
    "    \"grade\",\n",
    "    \"method_of_diagnosis\",\n",
    "]"
   ]
  },
  {
   "cell_type": "code",
   "execution_count": null,
   "id": "487f9f3c-2ede-4291-8701-a48d5bfcc987",
   "metadata": {},
   "outputs": [],
   "source": [
    "df.head()"
   ]
  },
  {
   "cell_type": "code",
   "execution_count": null,
   "id": "b44e08f7-981a-4dce-92ff-c878a4fcb3fc",
   "metadata": {},
   "outputs": [],
   "source": [
    "def build_treemap(\n",
    "    df: pd.DataFrame,\n",
    "    column_name: str,\n",
    "    width=250,\n",
    "    height=250\n",
    ") -> hv.Element:\n",
    "    \"\"\"\n",
    "    Create a treemap for a column using squarify + HoloViews (Rectangles).\n",
    "\n",
    "    - Missing data => 'NA'.\n",
    "    - Rectangle area => frequency of each distinct value.\n",
    "    \"\"\"\n",
    "    col_vals = df[column_name].fillna(\"NA\").astype(str)\n",
    "    counts = col_vals.value_counts(dropna=False)\n",
    "    if counts.empty:\n",
    "        return hv.Text(0.5, 0.5, f\"No data for '{column_name}'\").opts(\n",
    "            width=width, height=height\n",
    "        )\n",
    "\n",
    "    data_df = pd.DataFrame({\"value\": counts.index, \"freq\": counts.values})\n",
    "    sizes = data_df[\"freq\"].tolist()\n",
    "    normed = squarify.normalize_sizes(sizes, width, height)\n",
    "    rects = squarify.squarify(normed, 0, 0, width, height)\n",
    "\n",
    "    rectangle_data = []\n",
    "    for i, r in enumerate(rects):\n",
    "        x1, y1 = r[\"x\"], r[\"y\"]\n",
    "        x2, y2 = (r[\"x\"] + r[\"dx\"]), (r[\"y\"] + r[\"dy\"])\n",
    "\n",
    "        label = data_df.iloc[i][\"value\"]\n",
    "        freq = str(data_df.iloc[i][\"freq\"])\n",
    "        rectangle_data.append((x1, y1, x2, y2, label, freq))\n",
    "\n",
    "    treemap = hv.Rectangles(\n",
    "        rectangle_data,\n",
    "        kdims=[\"x1\", \"y1\", \"x2\", \"y2\"],\n",
    "        vdims=[\"freq\", \"label\"]\n",
    "    ).opts(\n",
    "        width=width,\n",
    "        height=height,\n",
    "        invert_yaxis=True,\n",
    "        color=\"freq\",\n",
    "        cmap=cc.b_glasbey_hv,\n",
    "        frame_height=height,\n",
    "        frame_width=width,\n",
    "        tools=[\"hover\"],\n",
    "        xaxis=\"bare\",\n",
    "        yaxis=\"bare\",\n",
    "        padding=0,\n",
    "        apply_hard_bounds=True,\n",
    "        line_color=\"white\",\n",
    "        line_width=0.5,\n",
    "        line_alpha=0.5,\n",
    "        show_legend=False,\n",
    "        # legend_position='right',\n",
    "    ).relabel(f\"Treemap: {column_name}\")\n",
    "\n",
    "    return treemap\n",
    "\n",
    "treemaps = []\n",
    "for c in col_list:\n",
    "    treemaps.append(build_treemap(df, c,))\n",
    "treemap_layout = hv.Layout(treemaps).opts(shared_axes=False).cols(2)"
   ]
  },
  {
   "cell_type": "code",
   "execution_count": null,
   "id": "0a83c8f9-e71b-402f-a21c-6242783243ca",
   "metadata": {},
   "outputs": [],
   "source": [
    "treemap_layout"
   ]
  },
  {
   "cell_type": "code",
   "execution_count": null,
   "id": "3c87f6c5-8897-48b1-8f2a-3fd25f176328",
   "metadata": {},
   "outputs": [],
   "source": [
    "cohexplorer = ExplorerUI()\n",
    "combined = pn.Row(\n",
    "    treemap_layout, cohexplorer._main,\n",
    ")\n",
    "\n",
    "# combined.servable()\n",
    "\n",
    "template = pn.template.FastListTemplate(\n",
    "        title=\"HoloViz Cohort Explorer Mockup\",\n",
    "        main=[combined],\n",
    "        header_background=\"#445566\",\n",
    "        accent_base_color=\"#6688aa\",\n",
    "    ).servable() "
   ]
  },
  {
   "cell_type": "code",
   "execution_count": null,
   "id": "55ea32da-5f3f-48e2-94ef-5baad9df69e7",
   "metadata": {},
   "outputs": [],
   "source": []
  }
 ],
 "metadata": {
  "kernelspec": {
   "display_name": "Python 3 (ipykernel)",
   "language": "python",
   "name": "python3"
  },
  "language_info": {
   "codemirror_mode": {
    "name": "ipython",
    "version": 3
   },
   "file_extension": ".py",
   "mimetype": "text/x-python",
   "name": "python",
   "nbconvert_exporter": "python",
   "pygments_lexer": "ipython3",
   "version": "3.12.8"
  }
 },
 "nbformat": 4,
 "nbformat_minor": 5
}
