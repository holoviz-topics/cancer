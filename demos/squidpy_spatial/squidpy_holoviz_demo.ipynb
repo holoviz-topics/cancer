{
 "cells": [
  {
   "cell_type": "markdown",
   "id": "2ad1e4cf-1534-4c35-a185-89aea22bc6fc",
   "metadata": {},
   "source": [
    "# Squidpy spatial scatter with HoloViz and Bokeh\n",
    "\n",
    "This example shows how to use `squidpy.pl.spatial_scatter` to plot\n",
    "annotations and features stored in `anndata.AnnData`.\n",
    "\n",
    "This plotting is useful when points and underlying image are available."
   ]
  },
  {
   "cell_type": "markdown",
   "id": "62a23f41-4f6b-403e-9b2f-799aef9c8833",
   "metadata": {},
   "source": [
    "1. Extract the image from `adata.uns[\"spatial\"][library_id][\"images\"][\"hires\"]` (or \"lowres\").\n",
    "2. Convert the image to a format that `holoviews.RGB` can consume.\n",
    "3. Extract the point coordinates from `adata.obsm[\"spatial\"]`.\n",
    "4. Overlay the image with `holoviews.Points` of the spatial coordinates.\n",
    "5. Optionally overlay the spatial connectivities"
   ]
  },
  {
   "cell_type": "code",
   "execution_count": null,
   "id": "1aa4c292-0fd4-42a4-9e6d-7a5fe4d938a6",
   "metadata": {},
   "outputs": [],
   "source": [
    "import squidpy as sq\n",
    "from scipy.sparse import coo_matrix\n",
    "\n",
    "import holoviews as hv\n",
    "import panel as pn\n",
    "import numpy as np\n",
    "import pandas as pd\n",
    "import param\n",
    "\n",
    "hv.extension(\"bokeh\")"
   ]
  },
  {
   "cell_type": "code",
   "execution_count": null,
   "id": "760986e0-05a9-40af-88bc-0955a0d8d6c5",
   "metadata": {},
   "outputs": [],
   "source": [
    "adata = sq.datasets.visium_hne_adata()"
   ]
  },
  {
   "cell_type": "markdown",
   "id": "57e87ff6-23fe-4c49-a7f9-228f851d25e4",
   "metadata": {},
   "source": [
    "## Extract the image and coordinates data"
   ]
  },
  {
   "cell_type": "code",
   "execution_count": null,
   "id": "b8878312-afb0-455f-8029-08f5f44449a4",
   "metadata": {},
   "outputs": [],
   "source": [
    "library_id = \"V1_Adult_Mouse_Brain\"\n",
    "\n",
    "# Extract the hires image, shape = (height, width, 3)\n",
    "img_data = adata.uns[\"spatial\"][library_id][\"images\"][\"hires\"]\n",
    "(height, width, _) = img_data.shape\n",
    "\n",
    "# The raw spot coordinates (often \"full-resolution\"), shape = (n_obs, 2)\n",
    "coords_fullres = adata.obsm[\"spatial\"]\n",
    "\n",
    "# For hires images, multiply coords by 'tissue_hires_scalef'\n",
    "scalef = adata.uns[\"spatial\"][library_id][\"scalefactors\"][\"tissue_hires_scalef\"]\n",
    "coords_hires = coords_fullres * scalef"
   ]
  },
  {
   "cell_type": "markdown",
   "id": "001bb9eb-0aec-4435-bd39-736feba817aa",
   "metadata": {},
   "source": [
    "## Transform the image into hv.RGB"
   ]
  },
  {
   "cell_type": "code",
   "execution_count": null,
   "id": "df1a9abc-41d8-4f4d-bb0b-42440ccafa93",
   "metadata": {},
   "outputs": [],
   "source": [
    "img_data_uint8 = (img_data * 255).astype(np.uint8)\n",
    "\n",
    "red   = img_data_uint8[:, :, 0]\n",
    "green = img_data_uint8[:, :, 1]\n",
    "blue  = img_data_uint8[:, :, 2]\n",
    "\n",
    "xvals = np.arange(width)\n",
    "yvals = np.arange(height)\n",
    "\n",
    "hv_rgb = hv.RGB(\n",
    "    (xvals, yvals, red, green, blue),\n",
    "    kdims=[\"x\", \"y\"], \n",
    "    vdims=[\"R\", \"G\", \"B\"]\n",
    ").opts(data_aspect=1)\n",
    "hv_rgb"
   ]
  },
  {
   "cell_type": "markdown",
   "id": "96074c67-80fb-47bd-afef-4b3d494c6464",
   "metadata": {},
   "source": [
    "## Get gene expression and overlay hv.Points continuous scatterplot"
   ]
  },
  {
   "cell_type": "code",
   "execution_count": null,
   "id": "899639b3-f65f-4366-bfbb-620fcf490d5a",
   "metadata": {},
   "outputs": [],
   "source": [
    "gene_var = 'Sox8'\n",
    "gene_expr = adata[:, gene_var].X\n",
    "if hasattr(gene_expr, \"toarray\"):\n",
    "    gene_expr = gene_expr.toarray()\n",
    "gene_expr = gene_expr.flatten()\n",
    "\n",
    "df_expr = pd.DataFrame({\n",
    "    \"x\": coords_hires[:, 0],\n",
    "    \"y\": coords_hires[:, 1],\n",
    "    gene_var: gene_expr,\n",
    "})\n",
    "\n",
    "points_expr = hv.Points(\n",
    "    df_expr,\n",
    "    kdims=[\"x\", \"y\"],\n",
    "    vdims=[gene_var]\n",
    ").opts(\n",
    "    color=gene_var,    \n",
    "    cmap=\"viridis\",    \n",
    "    colorbar=True,\n",
    "    tools=[\"hover\"],   \n",
    "    size=2,            \n",
    "    invert_yaxis=True,\n",
    "    line_alpha=0,\n",
    "    title=gene_var,\n",
    "    xaxis='bare',\n",
    "    yaxis='bare',\n",
    "    scalebar=True,\n",
    "    scalebar_opts= {'bar_length':.1},\n",
    "    scalebar_unit=('µm', 'm'),\n",
    ")\n",
    "\n",
    "overlay_cont = hv_rgb.opts(data_aspect=1) * points_expr\n",
    "overlay_cont"
   ]
  },
  {
   "cell_type": "markdown",
   "id": "58537714-69ed-4caf-ad44-126b0a6da6da",
   "metadata": {},
   "source": [
    "TODO: either implement scale multiplier in bokeh or map xvals, yvals, coords to something that we can use a direct mapping with e.g. `scalebar_unit=('µm', 'm')`"
   ]
  },
  {
   "cell_type": "markdown",
   "id": "4f9e2096-a52d-481a-8483-fe97abd6b505",
   "metadata": {},
   "source": [
    "## Get cluster data and overlay hv.Points categorical scatterplot"
   ]
  },
  {
   "cell_type": "code",
   "execution_count": null,
   "id": "e96a9b17-45ae-41d2-9903-2b3a6f232857",
   "metadata": {},
   "outputs": [],
   "source": [
    "cat_var = 'cluster'\n",
    "cat_data = adata.obs[cat_var].astype(str).tolist()\n",
    "\n",
    "df_clu = pd.DataFrame({\n",
    "    \"x\": coords_hires[:, 0],\n",
    "    \"y\": coords_hires[:, 1],\n",
    "    cat_var: cat_data,\n",
    "}).sort_values(cat_var)\n",
    "\n",
    "points_clu = hv.Points(\n",
    "    df_clu,\n",
    "    kdims=[\"x\", \"y\"],\n",
    "    vdims=[cat_var],\n",
    ").opts(\n",
    "    color=cat_var,  \n",
    "    cmap=\"glasbey_light\",\n",
    "    tools=[\"hover\"],\n",
    "    size=2,\n",
    "    legend_position='right',\n",
    "    legend_cols=2,\n",
    "    invert_yaxis=True,\n",
    "    line_alpha=0,\n",
    "    scalebar=True,\n",
    "    scalebar_opts= {'bar_length':.1},\n",
    "    scalebar_unit=('µm', 'm'),\n",
    "    title=cat_var,\n",
    ")\n",
    "\n",
    "overlay_cat = hv_rgb.opts(data_aspect=1) * points_clu\n",
    "overlay_cat"
   ]
  },
  {
   "cell_type": "markdown",
   "id": "00e57599-cb24-4318-bc22-a0efa5219991",
   "metadata": {},
   "source": [
    "## Spatial Connectivities"
   ]
  },
  {
   "cell_type": "code",
   "execution_count": null,
   "id": "ff0484ad-85e8-498e-8f71-6e7d1b11e577",
   "metadata": {},
   "outputs": [],
   "source": [
    "sq.gr.spatial_neighbors(adata)"
   ]
  },
  {
   "cell_type": "code",
   "execution_count": null,
   "id": "6843a11e-70d3-434d-ad1e-69df5fd8db40",
   "metadata": {},
   "outputs": [],
   "source": [
    "# 4) Build adjacency lines (edges) from spatial_connectivities\n",
    "#    We'll store them in a DataFrame for hv.Segments.\n",
    "#    If 'spatial_connectivities' is a sparse matrix, convert to COO to extract row/col indices.\n",
    "adj = adata.obsp[\"spatial_connectivities\"]\n",
    "if not isinstance(adj, coo_matrix):\n",
    "    adj = coo_matrix(adj)  # convert to COO for .row, .col\n",
    "rows, cols = adj.row, adj.col\n",
    "\n",
    "# Create a DataFrame with line segments: (x0, y0) -> (x1, y1)\n",
    "df_edges = pd.DataFrame({\n",
    "    \"x0\": coords_hires[rows, 0],\n",
    "    \"y0\": coords_hires[rows, 1],\n",
    "    \"x1\": coords_hires[cols, 0],\n",
    "    \"y1\": coords_hires[cols, 1],\n",
    "})\n",
    "\n",
    "# Create hv.Segments object. We won't color edges by any attribute, just a simple grey line.\n",
    "# We'll handle inversion of y-axis by flipping in the final overlay to match the scatter points.\n",
    "edges = hv.Segments(df_edges, kdims=[\"x0\", \"y0\", \"x1\", \"y1\"]).opts(\n",
    "    color=\"white\", line_width=0.5, line_alpha=0.9\n",
    ")\n",
    "(overlay_cat * edges).opts(hv.opts.Points(size=10, xlim=(200,600), ylim=(200,600)))"
   ]
  },
  {
   "cell_type": "markdown",
   "id": "e5cd6b07-9dcc-447b-bec7-00cf9b5d526f",
   "metadata": {},
   "source": [
    "## Panel app"
   ]
  },
  {
   "cell_type": "code",
   "execution_count": null,
   "id": "d93381d3-323a-43a0-937d-36aee3ed3ca9",
   "metadata": {},
   "outputs": [],
   "source": [
    "def create_points_overlay(\n",
    "    adata,\n",
    "    column: str,\n",
    "    coords: np.ndarray,\n",
    "    hv_rgb: hv.RGB,\n",
    "    edges: hv.Segments | None = None,\n",
    "    invert_y: bool = True,\n",
    "    point_size: int = 3,\n",
    "):\n",
    "    \"\"\"\n",
    "    Create HoloViews overlay for the given column in adata (either a gene from adata.X columns or a column in adata.obs).\n",
    "    \n",
    "    Treat float dtypes as continuous, anything else as categorical.\n",
    "    \"\"\"\n",
    "    # gene or obs?\n",
    "    if column in adata.var_names:\n",
    "        values = adata[:, column].X\n",
    "        if hasattr(values, \"toarray\"):\n",
    "            values = values.toarray()\n",
    "        values = values.flatten()\n",
    "        col_name = column\n",
    "    elif column in adata.obs.columns:\n",
    "        values = adata.obs[column].values\n",
    "        col_name = column\n",
    "    else:\n",
    "        raise ValueError(f\"Column '{column}' not found in adata.var_names or adata.obs.\")\n",
    "    \n",
    "    # simplification: if float -> continuous; otherwise -> categorical\n",
    "    is_continuous = pd.api.types.is_float_dtype(values)\n",
    "\n",
    "    df_plot = pd.DataFrame({\"x\": coords[:, 0], \"y\": coords[:, 1], col_name: values})\n",
    "\n",
    "    points = hv.Points(\n",
    "        df_plot,\n",
    "        kdims=[\"x\", \"y\"],\n",
    "        vdims=[col_name]\n",
    "    )\n",
    "\n",
    "    if is_continuous:\n",
    "        points = points.opts(\n",
    "            color=col_name,\n",
    "            cmap=\"viridis\",\n",
    "            colorbar=True,\n",
    "            tools=[\"hover\"],\n",
    "            size=point_size,\n",
    "            line_alpha=0,\n",
    "            title=f\"{col_name}\",\n",
    "        )\n",
    "    else:\n",
    "        points = points.opts(\n",
    "            color=col_name,\n",
    "            cmap=\"glasbey_light\",\n",
    "            tools=[\"hover\"],\n",
    "            size=point_size,\n",
    "            line_alpha=0,\n",
    "            legend_position='right',\n",
    "            legend_cols=2,\n",
    "            title=f\"{col_name}\",\n",
    "        )\n",
    "\n",
    "    base = hv_rgb.opts(\n",
    "        data_aspect=1,\n",
    "        scalebar=True,\n",
    "        scalebar_opts= {'bar_length':.1},\n",
    "        scalebar_unit=('µm', 'm'),)\n",
    "    if edges is not None:\n",
    "        base = base * edges\n",
    "    final = (base * points).opts(invert_yaxis=invert_y)\n",
    "\n",
    "    return final\n"
   ]
  },
  {
   "cell_type": "code",
   "execution_count": null,
   "id": "860b91dc-0837-47c8-add7-94c18a93cc19",
   "metadata": {},
   "outputs": [],
   "source": [
    "class VisiumViewer(pn.viewable.Viewer):\n",
    "    color_col = param.Selector(\n",
    "        doc=\"Select a gene or obs column to color by.\"\n",
    "    )\n",
    "    show_edges = param.Boolean(default=False, doc=\"Toggle spatial edges\")\n",
    "\n",
    "    def __init__(self, adata, coords_hires, hv_rgb, edges, **params):\n",
    "        super().__init__(**params)\n",
    "        self.adata = adata\n",
    "        self.coords = coords_hires\n",
    "        self.hv_rgb = hv_rgb\n",
    "        self.edges = edges\n",
    "\n",
    "        # Build the list of valid columns: gene or obs\n",
    "        # We'll combine them e.g. \"[gene1, gene2, ..., obs1, obs2]\"\n",
    "        genes = list(self.adata.var_names)\n",
    "        obs_cols = list(self.adata.obs.columns)\n",
    "        all_cols = genes + obs_cols\n",
    "        self.param.color_col.objects = all_cols\n",
    "        # if \"cluster\" in all_cols:\n",
    "        #     self.color_col = \"cluster\"  # default\n",
    "            \n",
    "\n",
    "    @param.depends(\"color_col\", \"show_edges\")\n",
    "    def view(self):\n",
    "        use_edges = self.edges if self.show_edges else None\n",
    "        overlay = create_points_overlay(\n",
    "            self.adata,\n",
    "            self.color_col,\n",
    "            self.coords,\n",
    "            self.hv_rgb,\n",
    "            edges=use_edges,\n",
    "            point_size=3,\n",
    "        )\n",
    "        return overlay\n",
    "\n",
    "    def __panel__(self):\n",
    "        return pn.Column(\n",
    "            pn.pane.Markdown(\"## Visium HoloViz Viewer\"),\n",
    "            pn.Row(\n",
    "            pn.Param(\n",
    "                self.param,\n",
    "                widgets={\n",
    "                    \"color_col\": {\"type\": pn.widgets.Select, \"name\": \"Color Column\"},\n",
    "                    \"show_edges\": {\"type\": pn.widgets.Checkbox, \"name\": \"Show Edges?\"},\n",
    "                },\n",
    "                show_name=False,\n",
    "            ),\n",
    "            self.view,\n",
    "            )\n",
    "        )\n"
   ]
  },
  {
   "cell_type": "code",
   "execution_count": null,
   "id": "497e7c3d-26d6-4c6b-8ebf-925467c27b87",
   "metadata": {},
   "outputs": [],
   "source": [
    "cont_app_demo = VisiumViewer(adata, coords_hires, hv_rgb, edges, color_col='Sox8').servable()\n",
    "cat_app_demo = VisiumViewer(adata, coords_hires, hv_rgb, edges, color_col='cluster').servable()\n",
    "\n",
    "pn.Column(cont_app_demo, cat_app_demo)"
   ]
  },
  {
   "cell_type": "code",
   "execution_count": null,
   "id": "536caba9-a3da-45b9-9659-3acfff8cbd00",
   "metadata": {},
   "outputs": [],
   "source": []
  }
 ],
 "metadata": {
  "kernelspec": {
   "display_name": "Python 3 (ipykernel)",
   "language": "python",
   "name": "python3"
  },
  "language_info": {
   "codemirror_mode": {
    "name": "ipython",
    "version": 3
   },
   "file_extension": ".py",
   "mimetype": "text/x-python",
   "name": "python",
   "nbconvert_exporter": "python",
   "pygments_lexer": "ipython3",
   "version": "3.12.8"
  }
 },
 "nbformat": 4,
 "nbformat_minor": 5
}
