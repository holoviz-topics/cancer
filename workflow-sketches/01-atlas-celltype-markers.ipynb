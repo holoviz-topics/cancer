{
 "cells": [
  {
   "cell_type": "markdown",
   "id": "ec8f0463-0002-40b2-9a3e-2af8af380b5d",
   "metadata": {},
   "source": [
    "# Treg Cell Atlas\n",
    "\n",
    "## Introduction\n",
    "This tutorial shows how to visualize an atlas of multiple single-cell RNA samples, including the distribution of cell types within each sampl and some of the marker gene characteristics.\n",
    "\n",
    "Cell atlases should describe the basic cell types found, how the are distrbuted in individual samples, and key defining marker genes for each of the cell types. The goal is generally to allow future researchers to better navigate the cell types and expressed genes in similar types of samples.\n",
    "\n",
    "Though these plots are with benign prostate, the `.h5ad` should be easily swappable with any number of atlases from CZI cellxgene or other sources.\n",
    "\n",
    "In this tutorial we will look at data from [Gleeson 2023, \"Conserved transcriptional connectivity of regulatory T cells in the tumor microenvironment informs new combination cancer therapy strategies\"](https://www.nature.com/articles/s41590-023-01504-2), which is [available from cellxgene](https://cellxgene.cziscience.com/collections/efd94500-1fdc-4e28-9e9f-a309d0154e21).\n",
    "\n",
    "<img \n",
    "    src=\"./assets/01_Combined_Figure.png\" \n",
    "    alt=\"Atlas Overview Figure\"\n",
    "    align=\"center\" \n",
    "    style=\"border: 2px solid #ccc; border-radius: 8px; padding: 5px; width: 100%; box-shadow: 0px 4px 8px rgba(0,0,0,0.1);\">\n",
    "    \n",
    "## Workflow Steps\n",
    "1. Visualize UMAP features of cell clustering to determine if cell types are well-separated.\n",
    "2. Visualize cell type distribution within each sample to detect sample-associated differences.\n",
    "3. Visualize marker genes for each cell type to validate cell type assignments.\n",
    "\n",
    "## Workflow Input Data\n",
    "* pre-processed AnnData atlas, with `.obsm` for:\n",
    "  * UMAP embeddings\n",
    "  * cell typings for each cell\n",
    "  * sample name for each cell\n",
    "* Mapping of cell type --> list of marker genes. This could be from a subject matter expert, or automatically generated from a stats tool or an SCVerse tool.\n",
    "\n",
    "# Setup and data download (~600MB)"
   ]
  },
  {
   "cell_type": "code",
   "execution_count": null,
   "id": "773b29e8-30ba-4136-87d3-82eb6377d3da",
   "metadata": {},
   "outputs": [],
   "source": [
    "import requests\n",
    "\n",
    "import anndata as ad\n",
    "import holoviews as hv\n",
    "import scanpy as sc\n",
    "import pooch\n",
    "\n",
    "from hv_anndata import Dotmap\n",
    "\n",
    "hv.extension(\"bokeh\")\n",
    "\n",
    "# download the data\n",
    "anndata_file_path = pooch.retrieve(\n",
    "    url=\"https://datasets.cellxgene.cziscience.com/32149a2b-b637-481b-8e04-b7c4c2dd68db.h5ad\",\n",
    "    known_hash=\"md5:be84940746cfb3e25fcb0432e55ddfde\",\n",
    "    fname=\"32149a2b-b637-481b-8e04-b7c4c2dd68db.h5ad\",\n",
    "    path=\"data-download\"\n",
    ")"
   ]
  },
  {
   "cell_type": "code",
   "execution_count": null,
   "id": "e8d13bea-55fd-4229-b744-d5029378afb2",
   "metadata": {},
   "outputs": [],
   "source": [
    "%%time\n",
    "adata = ad.read_h5ad(anndata_file_path)"
   ]
  },
  {
   "cell_type": "markdown",
   "id": "dfcc9316-74bb-44d9-a237-52d31831c350",
   "metadata": {},
   "source": [
    "## Figure A: UMAP of Cell Type and Sample Source\n",
    "\n",
    "### Questions:\n",
    "- How are different cell types distributed in our spatial embedding, and do they form distinct clusters?\n",
    "- Are there any unexpected mixing patterns between cell types?\n",
    "\n",
    "### Features:\n",
    "- Switch the cell point coloring between assigned cell type and sample source of each cell.\n",
    "\n",
    "### Inputs:\n",
    "- UMAP coordinates for each cell\n",
    "- Cell type annotations\n",
    "- Sample source identifiers\n",
    "\n",
    "### Expected Output/Evaluation:\n",
    "Well-defined cell type clusters with minimal batch effects would show as distinct color regions in cell type view, but evenly distributed sample colors in sample view."
   ]
  },
  {
   "cell_type": "code",
   "execution_count": null,
   "id": "73c6d05f-4648-4623-8096-fbf603983c1e",
   "metadata": {},
   "outputs": [],
   "source": [
    "sc.pl.umap(adata, color=\"cell_type\")"
   ]
  },
  {
   "cell_type": "code",
   "execution_count": null,
   "id": "a58136ef-9574-4ca9-9539-e2c33ce99e57",
   "metadata": {},
   "outputs": [],
   "source": [
    "sc.pl.umap(adata, color=\"donor_id\")"
   ]
  },
  {
   "cell_type": "markdown",
   "id": "b525775e-7490-4f93-bcb6-189f1b969310",
   "metadata": {},
   "source": [
    "## Figure B: Cell Type Distribution Per Sample\n",
    "\n",
    "### Questions:\n",
    "- What is the relative abundance of each cell type across samples?\n",
    "- Are there any notable sample-specific variations?\n",
    "\n",
    "### Features:\n",
    "- Linked selection with Figure A UMAP plot to provide context for where specific sample populations exist in UMAP feature space.\n",
    "    - [TODO: Add xaction to click on a sample in the bar plot to highlight the corresponding UMAP points.]\n",
    "- Linked selection with Figure C DotMap plot to provide context for marker gene specificity of selected sample.\n",
    "- Toggle between absolute and percentage-based cell counts to facilitate comparison and avoid contextualizing differences in sample size.\n",
    "\n",
    "### Inputs:\n",
    "- Cell type annotations\n",
    "- Sample identifiers\n",
    "- Cell counts per type per sample\n",
    "\n",
    "### Expected Output/Evaluation:\n",
    "* While allowing for biological variation, look for highly inconsistent cell type proportions in samples.\n",
    "* Mark outlier samples or cell types for more detailed investigation\n",
    "  * For example: if immune cells in particular ore off, look for additional marker genes to be added to the set\n",
    "* [TODO: Maybe add a metric (chi-square test?) to quantify the consistency of cell type proportions across samples and maybe sort the samples by this metric. There may be metrics in existing atlas papers, otherwise this could be a good quick pub]"
   ]
  },
  {
   "cell_type": "code",
   "execution_count": null,
   "id": "cc9893db-e63e-49be-8514-e5fb41ccbd83",
   "metadata": {},
   "outputs": [],
   "source": [
    "cell_type_counts = adata.obs.groupby(['donor_id', 'cell_type'], observed=False).size().reset_index(name='count')\n",
    "\n",
    "bars = hv.Bars(cell_type_counts, kdims=['donor_id', 'cell_type'], vdims=['count'])\n",
    "bars.opts(\n",
    "    hv.opts.Bars(\n",
    "        stacked=True,              # Enable stacking\n",
    "        color='cell_type',          # Color by celltype\n",
    "        width=650,                 # Width of the plot\n",
    "        height=400,                # Height of the plot\n",
    "        tools=['hover'],           # Add hover tool\n",
    "        xrotation=45,              # Rotate x-axis labels\n",
    "        legend_position='right',   # Position of the legend\n",
    "        title='Cell Count by Donor and Cell Type',\n",
    "        ylabel='Count',\n",
    "        xlabel='Donor',\n",
    "        cmap=\"Category20\",\n",
    "    )\n",
    ")\n",
    "bars"
   ]
  },
  {
   "cell_type": "code",
   "execution_count": null,
   "id": "3c204fe8-c634-4da0-9d51-bf6f226529bb",
   "metadata": {},
   "outputs": [],
   "source": [
    "cell_type_counts['donor_total'] = cell_type_counts.groupby('donor_id', observed=False)['count'].transform('sum')\n",
    "cell_type_counts['proportion'] = cell_type_counts['count'] / cell_type_counts['donor_total'] * 100\n",
    "bars = hv.Bars(cell_type_counts, kdims=['donor_id', 'cell_type'], vdims=['proportion'])\n",
    "bars.opts(\n",
    "    hv.opts.Bars(\n",
    "        stacked=True,              # Enable stacking\n",
    "        color='cell_type',          # Color by celltype\n",
    "        width=650,                 # Width of the plot\n",
    "        height=400,                # Height of the plot\n",
    "        tools=['hover'],           # Add hover tool\n",
    "        xrotation=45,              # Rotate x-axis labels\n",
    "        legend_position='right',   # Position of the legend\n",
    "        title='Cell Count by Donor and Cell Type',\n",
    "        ylabel='Count',\n",
    "        xlabel='Donor',\n",
    "        cmap=\"Category20\",\n",
    "    )\n",
    ")\n",
    "bars"
   ]
  },
  {
   "cell_type": "markdown",
   "id": "08ef7ce5-8659-4c79-83e3-0180dc8b267f",
   "metadata": {},
   "source": [
    "## Figure C: Marker Gene Distribution\n",
    "\n",
    "### Questions:\n",
    "- Do canonical markers adequately define our cell types?\n",
    "- Are there any marker genes showing unexpected expression patterns?\n",
    "\n",
    "### Features:\n",
    "- Toggle heatmap to collapse fraction of cell in group.\n",
    "- Toggle/Tab tracksplot to expand view to include expression level of every cell in assigned cell-type cluster.\n",
    "\n",
    "### Inputs:\n",
    "- Gene expression matrix\n",
    "- Cell type annotations\n",
    "- Marker gene list per cell type\n",
    "\n",
    "### Expected Output/Evaluation:\n",
    "Expect high expression of markers in their assigned cell types with minimal expression elsewhere."
   ]
  },
  {
   "cell_type": "code",
   "execution_count": null,
   "id": "f0dacf51-b2d8-4187-98c7-ab3f496fbb48",
   "metadata": {},
   "outputs": [],
   "source": [
    "signature_gene_symbols = {\n",
    "    \"ActivatedVEC\": [\"Bcl3\", \"Noct\", \"Relb\", \"Tnf\", \"Cerl2\", \"Cc40\", \"Irf5\", \"Csf1\", \"NiKb2\", \"Icosl\", \"Egr2\", \"Dll1\", \"Pim1\", \"Irf1\", \"Icam1\", \"Fgf2\", \"Tank\", \"I16\", \"Tgif1\", \"Ninj1\", \"Tnip1\"],\n",
    "    \"Angiogenesis\": [\"LPI\", \"Cd36\", \"Miga2\", \"Tap1\", \"Wars1\", \"Cd74\", \"Lyбe\", \"Gbp6\", \"Ido1\", \"Ciita\", \"Oas2\", \"Vegfa\", \"Thod\", \"Slco2a1\", \"Jup\", \"Icam2\", \"Lima1\", \"Cldn5\", \"Pardog\", \"Cd47\", \"Fmol I\", \"Alas1\", \"Bmpr2\", \"Sptbnt\", \"Smad6\", \"Sema3c\"],\n",
    "    \"Hypoxia\": [\"Klf6\", \"Nfil\", \"Bhlhe40\", \"Maff\", \"Serpine1\", \"Plaur\", \"Tnfaip3\", \"Icam1\", \"Nfkbia Junb\", \"Hbegf\", \"Rel\", \"Relb\", \"Fosl2\", \"Hmox1\", \"Timp3\", \"Irf8\", \"Batf3\", \"Nikbiz\", \"Pvr\", \"Ccr7\", \"Stat3\"],\n",
    "    \"EndMT\": [\"Emp3\", \"Serpina3\", \"Psmg4\", \"Cd63\", \"Il1r1\", \"Lgmn\", \"Csrp2\", \"Len2\", \"Cfb\", \"Lgals4\", \"Npm3\", \"Traf4\", \"Kpnb1\", \"Timp1\", \"Gda\", \"Ch25\", \"Tgm2\", \"Prkca\", \"Csrp2\", \"Ngf\", \"Ammecr1\"]\n",
    "}"
   ]
  },
  {
   "cell_type": "code",
   "execution_count": null,
   "id": "5588c1e4-da0e-48c4-915c-3340007b0704",
   "metadata": {},
   "outputs": [],
   "source": [
    "MYGENE_QUERY_URI = \"https://mygene.info/v3/query?fields=ensembl.gene&dotfield=true&size=1&from=0&fetch_all=false&facet_size=10&entrezonly=false&ensemblonly=false\"\n",
    "MAX_GENES_PER_GROUP = 8\n",
    "\n",
    "adata_gene_set = set(adata.var_names)\n",
    "signature_ensembl = {}\n",
    "for signature, symbols in signature_gene_symbols.items():\n",
    "    query = {\n",
    "      \"q\": symbols,\n",
    "      \"scopes\": \"symbol\",\n",
    "      \"species\": [\n",
    "        \"human\"\n",
    "      ],\n",
    "      \"fields\": \"ensemble.gene\"\n",
    "    }\n",
    "    response = requests.post(MYGENE_QUERY_URI, json=query)\n",
    "\n",
    "    ens_genes = []\n",
    "    for gene in response.json():\n",
    "        eg = gene.get(\"ensembl.gene\", [])\n",
    "        if isinstance(eg, str):\n",
    "            eg = [eg]\n",
    "        ens_genes += list(set(eg) & adata_gene_set)\n",
    "    \n",
    "    signature_ensembl[signature] = ens_genes[:MAX_GENES_PER_GROUP]"
   ]
  },
  {
   "cell_type": "code",
   "execution_count": null,
   "id": "4df7afbb-9bde-4d17-9125-97dcbc1e2a83",
   "metadata": {},
   "outputs": [],
   "source": [
    "Dotmap(adata=adata, marker_genes=signature_ensembl, groupby=\"cell_type\")"
   ]
  }
 ],
 "metadata": {
  "kernelspec": {
   "display_name": "Python 3 (ipykernel)",
   "language": "python",
   "name": "python3"
  },
  "language_info": {
   "codemirror_mode": {
    "name": "ipython",
    "version": 3
   },
   "file_extension": ".py",
   "mimetype": "text/x-python",
   "name": "python",
   "nbconvert_exporter": "python",
   "pygments_lexer": "ipython3",
   "version": "3.12.9"
  }
 },
 "nbformat": 4,
 "nbformat_minor": 5
}
