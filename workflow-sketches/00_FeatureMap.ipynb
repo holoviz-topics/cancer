{
 "cells": [
  {
   "cell_type": "markdown",
   "id": "ecf2c8de-c9f0-4c09-bcc8-b6a602263229",
   "metadata": {},
   "source": [
    "# Feature Map Workflow"
   ]
  },
  {
   "cell_type": "markdown",
   "id": "f127ffa5-cddb-4ca1-a3b7-f9a5f618718c",
   "metadata": {},
   "source": [
    "<img \n",
    "    src=\"./assets/00_FeatureMap_app.png\" \n",
    "    alt=\"FeatureMap App\"\n",
    "    align=\"center\" \n",
    "    style=\"border: 2px solid #ccc; border-radius: 8px; padding: 5px; width: 100%; box-shadow: 0px 4px 8px rgba(0,0,0,0.1);\">\n"
   ]
  },
  {
   "cell_type": "markdown",
   "id": "7f6e1c12-7778-4ed9-a58f-6e171db09a8b",
   "metadata": {},
   "source": [
    "___"
   ]
  },
  {
   "cell_type": "markdown",
   "id": "4270bea2-414c-4b25-a2d0-b85b32c3fd9e",
   "metadata": {},
   "source": [
    "This workflow tutorial walks you through creating a lightweight UMAP-style visualization application for AnnData objects. We'll build the application incrementally, starting with data loading and preprocessing, then layer on visualization functionality in an interactive interface."
   ]
  },
  {
   "cell_type": "markdown",
   "id": "4518be6d-0e49-4b47-a16c-503b51c9b489",
   "metadata": {},
   "source": [
    "## Imports and Configuration"
   ]
  },
  {
   "cell_type": "code",
   "execution_count": null,
   "id": "ab724ed5-e2da-45a5-bd4f-83fb30b93c85",
   "metadata": {},
   "outputs": [],
   "source": [
    "import scanpy as sc\n",
    "import anndata as ad\n",
    "import pooch\n",
    "\n",
    "import holoviews.operation.datashader as hd\n",
    "import datashader as ds\n",
    "import colorcet as cc\n",
    "import panel as pn\n",
    "from panel.io import hold\n",
    "import numpy as np\n",
    "import holoviews as hv\n",
    "\n",
    "pn.extension()\n",
    "hv.extension('bokeh')"
   ]
  },
  {
   "cell_type": "markdown",
   "id": "746b82f0-5e3c-432c-b79b-14e4bcfa779b",
   "metadata": {},
   "source": [
    "## Loading and Inspecting the Data"
   ]
  },
  {
   "cell_type": "markdown",
   "id": "ca533fd7-4ed9-48d4-a24c-3b7613808319",
   "metadata": {},
   "source": [
    "We'll use data from bone marrow mononuclear cells of healthy human donors. The samples were measured using the 10X Multiome Gene Expression and Chromatin Accessibility kit."
   ]
  },
  {
   "cell_type": "code",
   "execution_count": null,
   "id": "61f52da3-f6b6-4bf6-a83d-a1d6298b8d67",
   "metadata": {},
   "outputs": [],
   "source": [
    "EXAMPLE_DATA = pooch.create(\n",
    "    path=pooch.os_cache(\"scverse_tutorials\"),\n",
    "    base_url=\"doi:10.6084/m9.figshare.22716739.v1/\",\n",
    ")\n",
    "EXAMPLE_DATA.load_registry_from_doi()"
   ]
  },
  {
   "cell_type": "code",
   "execution_count": null,
   "id": "e38ce0a1-7353-4d91-a9ea-d2e11249e03d",
   "metadata": {},
   "outputs": [],
   "source": [
    "%%time\n",
    "\n",
    "samples = {\n",
    "    \"s1d1\": \"s1d1_filtered_feature_bc_matrix.h5\",\n",
    "    \"s1d3\": \"s1d3_filtered_feature_bc_matrix.h5\",\n",
    "}\n",
    "adatas = {}\n",
    "\n",
    "for sample_id, filename in samples.items():\n",
    "    path = EXAMPLE_DATA.fetch(filename)\n",
    "    sample_adata = sc.read_10x_h5(path)\n",
    "    sample_adata.var_names_make_unique()\n",
    "    adatas[sample_id] = sample_adata\n",
    "\n",
    "adata = ad.concat(adatas, label=\"sample\")\n",
    "adata.obs_names_make_unique()\n",
    "adata.var_names_make_unique()\n",
    "print(adata.obs[\"sample\"].value_counts())"
   ]
  },
  {
   "cell_type": "code",
   "execution_count": null,
   "id": "f1c86d72-1b8a-405b-b710-1a0fdc37dd3b",
   "metadata": {},
   "outputs": [],
   "source": [
    "adata"
   ]
  },
  {
   "cell_type": "markdown",
   "id": "93c30b66-4bb4-429c-9fdf-c92dfb9eba01",
   "metadata": {},
   "source": [
    "Collectively, the two samples contains ~17,000 cells per sample and 36,601 measured genes."
   ]
  },
  {
   "cell_type": "markdown",
   "id": "7df8d063-2c10-4ce0-bdd7-c00974ea2377",
   "metadata": {},
   "source": [
    "## Data Preprocessing"
   ]
  },
  {
   "cell_type": "markdown",
   "id": "2f2cc0db-d113-4490-9f0c-2d99a5ff0dc6",
   "metadata": {},
   "source": [
    "### Common Quality Control Metrics\n",
    "\n",
    "We'll calculate quality control metrics for specific gene populations. Mitochondrial, ribosomal and hemoglobin genes are defined by distinct prefixes as listed below."
   ]
  },
  {
   "cell_type": "code",
   "execution_count": null,
   "id": "51d59a8e-aefe-4d32-8272-f30c142303cc",
   "metadata": {},
   "outputs": [],
   "source": [
    "# mitochondrial genes, \"MT-\" for human, \"Mt-\" for mouse\n",
    "adata.var[\"mt\"] = adata.var_names.str.startswith(\"MT-\")\n",
    "# ribosomal genes\n",
    "adata.var[\"ribo\"] = adata.var_names.str.startswith((\"RPS\", \"RPL\"))\n",
    "# hemoglobin genes\n",
    "adata.var[\"hb\"] = adata.var_names.str.contains(\"^HB[^(P)]\")"
   ]
  },
  {
   "cell_type": "code",
   "execution_count": null,
   "id": "bc5eba28-6879-400c-9da3-978dfae10cad",
   "metadata": {},
   "outputs": [],
   "source": [
    "sc.pp.calculate_qc_metrics(\n",
    "    adata, qc_vars=[\"mt\", \"ribo\", \"hb\"], inplace=True, log1p=True\n",
    ")"
   ]
  },
  {
   "cell_type": "markdown",
   "id": "b23af33b-ebbc-4b6b-b18a-35bb64a7119f",
   "metadata": {},
   "source": [
    "### Filter by cells and genes\n",
    "\n",
    "We filter cells with less than 100 genes expressed and genes that are detected in less than 3 cells. "
   ]
  },
  {
   "cell_type": "code",
   "execution_count": null,
   "id": "4b85b00d-6c0e-4638-962d-95cf48e2e515",
   "metadata": {},
   "outputs": [],
   "source": [
    "sc.pp.filter_cells(adata, min_genes=100)\n",
    "sc.pp.filter_genes(adata, min_cells=3)"
   ]
  },
  {
   "cell_type": "markdown",
   "id": "b2cabf81-b490-4126-a059-306cf3f2d343",
   "metadata": {},
   "source": [
    "### Remove doublets"
   ]
  },
  {
   "cell_type": "markdown",
   "id": "71afc9df-1a24-473c-9428-2fcb89d932cb",
   "metadata": {},
   "source": [
    "We'll use Scrublet to identify and remove potential doublets:"
   ]
  },
  {
   "cell_type": "code",
   "execution_count": null,
   "id": "06e483a0-6f42-4009-a6cd-d48e37d2f947",
   "metadata": {},
   "outputs": [],
   "source": [
    "%% time\n",
    "\n",
    "sc.pp.scrublet(adata, batch_key=\"sample\")"
   ]
  },
  {
   "cell_type": "markdown",
   "id": "ca45a4a0-5ae2-4c4b-9461-a904e601f78a",
   "metadata": {},
   "source": [
    "### Count Depth Scaling Normalization\n",
    "\n",
    "We are applying median count depth normalization with log1p transformation (log1PF).\n"
   ]
  },
  {
   "cell_type": "code",
   "execution_count": null,
   "id": "9fa0b4a2-870e-4b66-8632-aa104323d65b",
   "metadata": {},
   "outputs": [],
   "source": [
    "# Saving count data\n",
    "adata.layers[\"counts\"] = adata.X.copy()"
   ]
  },
  {
   "cell_type": "code",
   "execution_count": null,
   "id": "5e3c597f-5cf6-4c5a-bbbe-bf4754cb4406",
   "metadata": {},
   "outputs": [],
   "source": [
    "# Normalizing to median total counts\n",
    "sc.pp.normalize_total(adata)\n",
    "# Logarithmize the data\n",
    "sc.pp.log1p(adata)"
   ]
  },
  {
   "cell_type": "markdown",
   "id": "cfdd0e70-1a68-4c8e-baf0-380c63c79513",
   "metadata": {},
   "source": [
    "### Dimensionality Reduction and Feature Selection\n",
    "\n",
    "Reduce the dimensionality and only include the most informative genese."
   ]
  },
  {
   "cell_type": "code",
   "execution_count": null,
   "id": "76e5bbfd-81b7-427e-a2f6-b6dd69d61360",
   "metadata": {},
   "outputs": [],
   "source": [
    "sc.pp.highly_variable_genes(adata, n_top_genes=2000, batch_key=\"sample\")"
   ]
  },
  {
   "cell_type": "markdown",
   "id": "4d79d923-845b-40a5-966c-7708195e274c",
   "metadata": {},
   "source": [
    "Reduce the dimensionality of the data by running principal component analysis (PCA), which reveals the main axes of variation and denoises the data."
   ]
  },
  {
   "cell_type": "code",
   "execution_count": null,
   "id": "fdb34376-712a-4605-a685-719973b4eeec",
   "metadata": {},
   "outputs": [],
   "source": [
    "sc.tl.pca(adata)"
   ]
  },
  {
   "cell_type": "markdown",
   "id": "2f2b25b6-e20c-42e1-b1f3-c1c8244e18dd",
   "metadata": {},
   "source": [
    "Inspect the contribution of single PCs to the total variance in the data. This gives us information about how many PCs we should consider in order to compute the neighborhood relations of cells."
   ]
  },
  {
   "cell_type": "code",
   "execution_count": null,
   "id": "cc5b97b2-c567-4a0e-a10d-79a1de023953",
   "metadata": {},
   "outputs": [],
   "source": [
    "sc.pl.pca_variance_ratio(adata, n_pcs=50, log=True)"
   ]
  },
  {
   "cell_type": "markdown",
   "id": "06e4b519-5ddb-4737-a485-20ae94266819",
   "metadata": {},
   "source": [
    "## Nearest neighbor graph constuction\n",
    "\n",
    "Let us compute the neighborhood graph of cells using the PCA representation of the data matrix."
   ]
  },
  {
   "cell_type": "code",
   "execution_count": null,
   "id": "9347fc2d-b6c5-464d-9ccb-7e111bcf7d54",
   "metadata": {},
   "outputs": [],
   "source": [
    "sc.pp.neighbors(adata)"
   ]
  },
  {
   "cell_type": "markdown",
   "id": "1f59bd6c-536d-4153-83f8-ec8ab8e9e960",
   "metadata": {},
   "source": [
    "This graph can then be embedded in two dimensions for visualiztion with UMAP (McInnes et al., 2018):"
   ]
  },
  {
   "cell_type": "code",
   "execution_count": null,
   "id": "2a9f001c-6ede-4a98-8598-38a2278c45f2",
   "metadata": {},
   "outputs": [],
   "source": [
    "sc.tl.umap(adata)"
   ]
  },
  {
   "cell_type": "markdown",
   "id": "9d6f7a69-2024-4819-91bf-53dc0d4f404b",
   "metadata": {},
   "source": [
    "We can now visualize the UMAP according to the `sample`. "
   ]
  },
  {
   "cell_type": "markdown",
   "id": "713bf07d-c700-493d-a8b5-634ba5c1df17",
   "metadata": {},
   "source": [
    "## Clustering\n",
    "\n",
    "Use the Leiden graph-clustering method (community detection based on optimizing modularity) {cite}`Traag2019`. Leiden clustering directly clusters the neighborhood graph of cells, which we already computed in the previous section."
   ]
  },
  {
   "cell_type": "code",
   "execution_count": null,
   "id": "eb12ca9a-48c7-49f9-985d-0b2c9524e98f",
   "metadata": {},
   "outputs": [],
   "source": [
    "%%time\n",
    "\n",
    "# Note: Using the `igraph` implementation and a fixed number of iterations \n",
    "# can be significantly faster, especially for larger datasets\n",
    "sc.tl.leiden(adata, flavor=\"igraph\", n_iterations=2)"
   ]
  },
  {
   "cell_type": "markdown",
   "id": "d8b2f734-6008-430b-9148-827c33b1217e",
   "metadata": {},
   "source": [
    "## Building the Feature Map Explorer\n",
    "\n",
    "We'll build it step-by-step, starting with the basic components and gradually adding more functionality."
   ]
  },
  {
   "cell_type": "code",
   "execution_count": null,
   "id": "04b1ac4a-3d3b-4a96-ab32-4802241d59e1",
   "metadata": {},
   "outputs": [],
   "source": [
    "# filename = 'adata_clustered.h5'\n",
    "# # adata.write('./adata_clustered.h5')\n",
    "# adata = ad.read_h5ad(filename)"
   ]
  },
  {
   "cell_type": "markdown",
   "id": "7fbd5145-fc6b-45da-bf78-93f8ca3cbc14",
   "metadata": {},
   "source": [
    "### Step 1: Creating a Basic Plot Function"
   ]
  },
  {
   "cell_type": "markdown",
   "id": "fd5e5731-7cb9-425c-a9dc-bd7b3eeddeb8",
   "metadata": {},
   "source": [
    "Let's start by creating a function to generate a simple dimensional reduction feature plot. This function will take data and create a scatter plot. This will be the core of our application."
   ]
  },
  {
   "cell_type": "code",
   "execution_count": null,
   "id": "d9797852-9ee9-4a49-bd89-a75eb5c59439",
   "metadata": {},
   "outputs": [],
   "source": [
    "def create_basic_featuremap(x_data, x_dim=0, y_dim=1, xaxis_label='PC1', yaxis_label='PC2'):\n",
    "    plot = hv.Points(\n",
    "        (x_data[:, x_dim], x_data[:, y_dim]),\n",
    "        [xaxis_label, yaxis_label]\n",
    "    )\n",
    "    \n",
    "    plot = plot.opts(alpha=0.5, tools=['hover'])\n",
    "    return plot\n",
    "\n",
    "create_basic_featuremap(adata.obsm['X_pca'])"
   ]
  },
  {
   "cell_type": "markdown",
   "id": "fb56e618-7ec4-44b4-ad21-839b7b86e252",
   "metadata": {},
   "source": [
    "This creates a simple scatter plot using our PCA data, showing PC1 vs PC2."
   ]
  },
  {
   "cell_type": "markdown",
   "id": "82cadfc0-8449-4e9d-8e3b-46920ca1ea1f",
   "metadata": {},
   "source": [
    "### Step 2: Adding Data Type Specific Color Support\n",
    "\n",
    "Now, let's enhance our plot by adding color to represent different variables. If each cell (corresponding to each point in the scatter plot) is to be given a color, we can use vectors which are all N-cells long from the `adata.obs` store as the `color_data` (or we could use a column in the `X` data matrix). Our function will determine if the provided `color_data` is categorical or continuous, and set a colormap accordingly."
   ]
  },
  {
   "cell_type": "code",
   "execution_count": null,
   "id": "7a324229-04e4-4d64-9f36-51fe4246a3af",
   "metadata": {},
   "outputs": [],
   "source": [
    "def create_colored_featuremap(x_data, x_dim, y_dim, color_data, color_var, \n",
    "                             xaxis_label, yaxis_label):\n",
    "    # Determine if the color data is categorical or continuous\n",
    "    is_categorical = (\n",
    "        color_data.dtype.name in ['category', 'categorical', 'bool'] or\n",
    "        np.issubdtype(color_data.dtype, np.object_) or\n",
    "        np.issubdtype(color_data.dtype, np.str_)\n",
    "    )\n",
    "    \n",
    "    # Set colormap and options based on data type\n",
    "    if is_categorical:\n",
    "        n_categories = len(np.unique(color_data))\n",
    "        cmap = cc.b_glasbey_category10[:n_categories]  # Color map for categorical data\n",
    "        colorbar = False\n",
    "        show_legend = True\n",
    "    else:\n",
    "        cmap = 'viridis'  # Color map for continuous data\n",
    "        colorbar = True\n",
    "        show_legend = False\n",
    "    \n",
    "    plot = hv.Points(\n",
    "        (x_data[:, x_dim], x_data[:, y_dim], color_data),\n",
    "        [xaxis_label, yaxis_label], color_var\n",
    "    )\n",
    "    \n",
    "    plot = plot.opts(color=color_var, cmap=cmap, alpha=0.5,\n",
    "                     tools=['hover'], legend_position='right',\n",
    "                    frame_width=300, frame_height=300)\n",
    "    \n",
    "    return plot, cmap\n",
    "\n",
    "pca_data = adata.obsm['X_pca']\n",
    "color_data = adata.obs['leiden'].values\n",
    "\n",
    "colored_plot, cmap = create_colored_featuremap(\n",
    "    pca_data, x_dim=0, y_dim=1, color_data=color_data, color_var='leiden',\n",
    "    xaxis_label='PC1', yaxis_label='PC2',\n",
    ")\n",
    "colored_plot"
   ]
  },
  {
   "cell_type": "markdown",
   "id": "b04146b1-914d-4a1d-8f97-dc990ff26b23",
   "metadata": {},
   "source": [
    "Now our plot shows points colored by their Leiden cluster assignment. We've also added logic to handle both categorical and continuous color variables.\n",
    "\n",
    "But the data is too overplotted and we could be missing important structure, so let's apply datashader raterization. "
   ]
  },
  {
   "cell_type": "markdown",
   "id": "134e2d33-5e09-440e-bc21-bbb71ae8c688",
   "metadata": {},
   "source": [
    "### Step 3: Adding Datashader Support\n",
    "\n",
    "For large datasets, we leverage Datashader's rasterization capabilities. Key components include:\n",
    "\n",
    "- Aggregators: We use `ds.count_cat` for categorical data and `ds.mean` for continuous data, which determine how points are combined when they fall into the same pixel.\n",
    "- Rasterization: The `hd.rasterize` function converts vector data to a raster image, greatly improving performance for large datasets.\n",
    "- Dynamic Spreading: `hd.dynspread` automatically enhances visibility of sparse regions by adaptively spreading pixels.\n",
    "\n",
    "This integration enables scalable visualization of millions of points while preserving the ability to see overall patterns and distributions."
   ]
  },
  {
   "cell_type": "code",
   "execution_count": null,
   "id": "0f1383c9-9846-440c-a4ef-d6f223deea4e",
   "metadata": {},
   "outputs": [],
   "source": [
    "def create_datashaded_featuremap(x_data, x_dim, y_dim, color_data, color_var, \n",
    "                                xaxis_label, yaxis_label, width=300, height=300):\n",
    "    is_categorical = (\n",
    "        color_data.dtype.name in ['category', 'categorical', 'bool'] or\n",
    "        np.issubdtype(color_data.dtype, np.object_) or\n",
    "        np.issubdtype(color_data.dtype, np.str_)\n",
    "    )\n",
    "    \n",
    "    if is_categorical:\n",
    "        n_categories = len(np.unique(color_data))\n",
    "        cmap = cc.b_glasbey_category10[:n_categories]\n",
    "        colorbar = False\n",
    "    else:\n",
    "        cmap = 'viridis'\n",
    "        colorbar = True\n",
    "    \n",
    "    plot = hv.Points(\n",
    "        (x_data[:, x_dim], x_data[:, y_dim], color_data),\n",
    "        [xaxis_label, yaxis_label], color_var\n",
    "    )\n",
    "    \n",
    "    # Apply datashader based on data type\n",
    "    if is_categorical:\n",
    "        # For categorical data, count by category\n",
    "        aggregator = ds.count_cat(color_var)\n",
    "        plot = hd.rasterize(plot, aggregator=aggregator)\n",
    "    else:\n",
    "        # For continuous data, take the mean per pixel\n",
    "        aggregator = ds.mean(color_var)\n",
    "        plot = hd.rasterize(plot, aggregator=aggregator)\n",
    "    \n",
    "    # Apply dynamic spreading to make sparse regions more visible\n",
    "    plot = hd.dynspread(plot, threshold=0.5)\n",
    "    \n",
    "    # Set plot options\n",
    "    plot = plot.opts(\n",
    "        cmap=cmap,\n",
    "        colorbar=colorbar,\n",
    "        tools=['hover'],\n",
    "        frame_width=width,\n",
    "        frame_height=height,\n",
    "        title=f\"{color_var}\"\n",
    "    )\n",
    "    \n",
    "    return plot\n",
    "\n",
    "# Test with UMAP data and leiden clusters\n",
    "umap_data = adata.obsm['X_umap']\n",
    "color_data = adata.obs['leiden'].values\n",
    "\n",
    "datashaded_plot = create_datashaded_featuremap(\n",
    "    umap_data,\n",
    "    x_dim=0,\n",
    "    y_dim=1,\n",
    "    color_data=color_data,\n",
    "    color_var='leiden',\n",
    "    xaxis_label='UMAP1',\n",
    "    yaxis_label='UMAP2',\n",
    "    width=300,\n",
    "    height=300\n",
    ")\n",
    "datashaded_plot"
   ]
  },
  {
   "cell_type": "markdown",
   "id": "ef3c64c7-7577-46d8-bc1f-e3767162d693",
   "metadata": {},
   "source": [
    "This plot uses datashader to efficiently render many points, making the visualization scalable to large datasets."
   ]
  },
  {
   "cell_type": "markdown",
   "id": "ce155ff6-98cf-463b-ab3d-3151ec8be091",
   "metadata": {},
   "source": [
    "### Step 4: Adding Labels Support\n",
    "\n",
    "Now, let's add the ability to display labels at the median position for each cluster in categorical data. This is particularly helpful when we have more than a few clusters and a separate legend becomes difficult to visually map. We'll reuse our datashader function to create the featuremap plot and then layer the labels plot."
   ]
  },
  {
   "cell_type": "code",
   "execution_count": null,
   "id": "01072ff6-5e65-46aa-ac35-d1f5de5ad12d",
   "metadata": {},
   "outputs": [],
   "source": [
    "def create_labeled_featuremap(x_data, x_dim, y_dim, color_data, color_var, \n",
    "                             xaxis_label, yaxis_label, width=300, height=300):\n",
    "\n",
    "    plot = create_datashaded_featuremap(\n",
    "        x_data, x_dim, y_dim, color_data, color_var,\n",
    "        xaxis_label, yaxis_label, width, height\n",
    "    )\n",
    "    \n",
    "    # Only add labels for categorical data\n",
    "    is_categorical = (\n",
    "        color_data.dtype.name in ['category', 'categorical', 'bool'] or\n",
    "        np.issubdtype(color_data.dtype, np.object_) or\n",
    "        np.issubdtype(color_data.dtype, np.str_)\n",
    "    )\n",
    "    \n",
    "    if is_categorical:\n",
    "        # Calculate median positions for each category\n",
    "        unique_categories = np.unique(color_data)\n",
    "        labels_data = []\n",
    "        \n",
    "        for cat in unique_categories:\n",
    "            # Find points in this category\n",
    "            mask = color_data == cat\n",
    "            # Calculate median position\n",
    "            median_x = np.median(x_data[mask, x_dim])\n",
    "            median_y = np.median(x_data[mask, y_dim])\n",
    "            # Add to labels data\n",
    "            labels_data.append((median_x, median_y, str(cat)))\n",
    "        \n",
    "        labels_element = hv.Labels(\n",
    "            labels_data, \n",
    "            [xaxis_label, yaxis_label], \n",
    "            'Label'\n",
    "        ).opts(\n",
    "            text_font_size='8pt',\n",
    "            text_color='black'\n",
    "        )\n",
    "        \n",
    "        plot = plot * labels_element\n",
    "    \n",
    "    return plot\n",
    "\n",
    "umap_data = adata.obsm['X_umap']\n",
    "color_data = adata.obs['leiden'].values\n",
    "\n",
    "labeled_plot = create_labeled_featuremap(\n",
    "    umap_data,\n",
    "    x_dim=0,\n",
    "    y_dim=1,\n",
    "    color_data=color_data,\n",
    "    color_var='leiden',\n",
    "    xaxis_label='UMAP1',\n",
    "    yaxis_label='UMAP2',\n",
    "    width=300,\n",
    "    height=300\n",
    ")\n",
    "labeled_plot"
   ]
  },
  {
   "cell_type": "markdown",
   "id": "f4c64e2a-a203-42c2-b654-cb312e94244f",
   "metadata": {},
   "source": [
    "### Step 5: Combining Functions into a Unified Single Plot API\n",
    "\n",
    "Let's combine our previous functions into a single, flexible function that can handle all the options:"
   ]
  },
  {
   "cell_type": "code",
   "execution_count": null,
   "id": "4451f2c4-c3af-4b44-abba-b8d2c59bd4a9",
   "metadata": {},
   "outputs": [],
   "source": [
    "def create_featuremap_plot(\n",
    "    x_data, color_data, x_dim, y_dim, color_var, xaxis_label, yaxis_label,\n",
    "    width=300, height=300, datashading=True, labels=False,\n",
    "    cont_cmap='viridis',\n",
    "    cat_cmap=cc.b_glasbey_category10):\n",
    "    \"\"\"\n",
    "    Create a comprehensive feature map plot with options for datashading and labels\n",
    "    \n",
    "    Parameters:\n",
    "    - x_data: numpy.ndarray, shape n_obs by n_dimensions\n",
    "    - color_data: numpy.ndarray, shape n_obs color values (categorical or continuous)\n",
    "    - x_dim, y_dim: int, indices to use as x or y data\n",
    "    - color_var: str, name to give the coloring dimension\n",
    "    - xaxis_label, yaxis_label: str, labels for the axes\n",
    "    - width, height: int, dimensions of the plot\n",
    "    - datashading: bool, whether to apply datashader\n",
    "    - labels: bool, whether to overlay labels at median positions\n",
    "    - cont_cmap: str, colormap for continuous data\n",
    "    - cat_cmap: list, colormap for categorical data\n",
    "    \"\"\"\n",
    "    # Determine if the color data is categorical or continuous\n",
    "    is_categorical = (\n",
    "        color_data.dtype.name in ['category', 'categorical', 'bool'] or\n",
    "        np.issubdtype(color_data.dtype, np.object_) or\n",
    "        np.issubdtype(color_data.dtype, np.str_)\n",
    "    )\n",
    "    \n",
    "    # Set colormap and options based on data type\n",
    "    if is_categorical:\n",
    "        n_unq_cat = len(np.unique(color_data))\n",
    "        cmap = cat_cmap[:n_unq_cat]\n",
    "        colorbar = False\n",
    "        if labels:\n",
    "            show_legend = False\n",
    "        else:\n",
    "            show_legend = True\n",
    "    else:\n",
    "        cmap = cont_cmap\n",
    "        show_legend = False\n",
    "        colorbar = True\n",
    "    \n",
    "    plot = hv.Points(\n",
    "        (x_data[:, x_dim], x_data[:, y_dim], color_data),\n",
    "        [xaxis_label, yaxis_label], color_var\n",
    "    )\n",
    "    \n",
    "    # Options for standard (non-datashaded) plot\n",
    "    plot_opts = dict(\n",
    "        color=color_var,\n",
    "        cmap=cmap,\n",
    "        size=1,\n",
    "        alpha=0.5,\n",
    "        colorbar=colorbar,\n",
    "        padding=0,\n",
    "        tools=['hover'],\n",
    "        show_legend=show_legend,\n",
    "        legend_position='right',\n",
    "    )\n",
    "    \n",
    "    # Options for labels\n",
    "    label_opts = dict(\n",
    "        text_font_size='8pt',\n",
    "        text_color='black'\n",
    "    )\n",
    "    \n",
    "    # Apply datashading if requested\n",
    "    if datashading:\n",
    "        if is_categorical:\n",
    "            # For categorical data, count by category\n",
    "            aggregator = ds.count_cat(color_var)\n",
    "            plot = hd.rasterize(plot, aggregator=aggregator)\n",
    "            plot = hd.dynspread(plot, threshold=0.5)\n",
    "            plot = plot.opts(cmap=cmap, tools=['hover'])\n",
    "            \n",
    "            if labels:\n",
    "                # Add labels at median positions\n",
    "                unique_categories = np.unique(color_data)\n",
    "                labels_data = []\n",
    "                for cat in unique_categories:\n",
    "                    mask = color_data == cat\n",
    "                    median_x = np.median(x_data[mask, x_dim])\n",
    "                    median_y = np.median(x_data[mask, y_dim])\n",
    "                    labels_data.append((median_x, median_y, str(cat)))\n",
    "                labels_element = hv.Labels(labels_data, [xaxis_label, yaxis_label], 'Label').opts(**label_opts)\n",
    "                plot = plot * labels_element\n",
    "            else:\n",
    "                # Create a custom legend for datashaded categorical plot\n",
    "                unique_categories = np.unique(color_data)\n",
    "                color_key = dict(zip(unique_categories, cmap[:len(unique_categories)]))\n",
    "                legend_items = [\n",
    "                    hv.Points([0,0], label=str(cat)).opts(\n",
    "                        color=color_key[cat],\n",
    "                        size=0\n",
    "                    ) for cat in unique_categories\n",
    "                ]\n",
    "                legend = hv.NdOverlay({str(cat): item for cat, item in zip(unique_categories, legend_items)}).opts(\n",
    "                    show_legend=True,\n",
    "                    legend_position='right',\n",
    "                    legend_limit=1000,\n",
    "                    legend_cols=len(unique_categories) // 8 + 1,\n",
    "                )\n",
    "                plot = plot * legend\n",
    "        else:\n",
    "            # For continuous data, take the mean\n",
    "            aggregator = ds.mean(color_var)\n",
    "            plot = hd.rasterize(plot, aggregator=aggregator)\n",
    "            plot = hd.dynspread(plot, threshold=0.5)\n",
    "            plot = plot.opts(cmap=cmap, colorbar=colorbar)\n",
    "    else:\n",
    "        # Standard plot without datashading\n",
    "        plot = plot.opts(**plot_opts)\n",
    "        if is_categorical and labels:\n",
    "            # Add labels for non-datashaded categorical plot\n",
    "            unique_categories = np.unique(color_data)\n",
    "            labels_data = []\n",
    "            for cat in unique_categories:\n",
    "                mask = color_data == cat\n",
    "                median_x = np.median(x_data[mask, x_dim])\n",
    "                median_y = np.median(x_data[mask, y_dim])\n",
    "                labels_data.append((median_x, median_y, str(cat)))\n",
    "            labels_element = hv.Labels(labels_data, [xaxis_label, yaxis_label], 'Label').opts(**label_opts)\n",
    "            plot = plot * labels_element\n",
    "    \n",
    "    return plot.opts(\n",
    "        title=f\"{color_var}\",\n",
    "        tools=['hover'],\n",
    "        show_legend=show_legend,\n",
    "        frame_width=width,\n",
    "        frame_height=height\n",
    "    )\n",
    "\n",
    "umap_data = adata.obsm['X_umap']\n",
    "color_data = adata.obs['leiden'].values\n",
    "\n",
    "unified_plot = create_featuremap_plot(\n",
    "    umap_data,\n",
    "    color_data,\n",
    "    x_dim=0,\n",
    "    y_dim=1,\n",
    "    color_var='leiden',\n",
    "    xaxis_label='UMAP1',\n",
    "    yaxis_label='UMAP2',\n",
    "    width=300,\n",
    "    height=300,\n",
    "    datashading=True,\n",
    "    labels=True\n",
    ")\n",
    "unified_plot"
   ]
  },
  {
   "cell_type": "markdown",
   "id": "a6c40921-31ed-48bc-a76a-83c67a5059c0",
   "metadata": {},
   "source": [
    "### Step 6: Creating an Interactive App\n",
    "\n",
    "Finally, let's create an interactive application using Panel. Our final interactive application will allow you to:\n",
    "\n",
    "- Select different dimension reduction methods (PCA, UMAP, etc.)\n",
    "- Choose which dimensions to display on x and y axes\n",
    "- Color points by different variables (cluster assignments, gene expression, quality metrics)\n",
    "- Toggle datashading for better performance and interpretability with large datasets\n",
    "- Overlay legend labels on plot for categorical variables\n",
    "\n",
    "Here are some of the HoloViz Panel concepts that we'll employ:\n",
    "\n",
    "#### Reactive Programming Model\n",
    "The application uses Panel's reactive programming model where changes to one component automatically trigger updates in dependent components. This is seen in how changing the dimension reduction method immediately updates the axis selectors and plot.\n",
    "\n",
    "#### Widget Binding\n",
    "We use `pn.bind()` to connect our plotting function to the widgets. This creates a reactive pipeline where any widget change automatically triggers a plot update. This declarative binding approach is much cleaner than manually handling events and updates.\n",
    "\n",
    "#### Layout System\n",
    "Panel provides a flexible layout system, shown by our use of pn.Row and pn.WidgetBox to organize the interface components. This makes it easy to create responsive layouts that adapt to different screen sizes.\n",
    "\n",
    "#### Event Handling with param.watch\n",
    "The function uses `.param.watch()` to observe changes, such as with the dimension reduction selector. This event-driven approach lets us respond to user interactions by updating related widgets.\n",
    "\n",
    "#### Decorator-enhanced Functions\n",
    "The `@hold()` decorator is used to prevent intermediate redraws when updating multiple widget properties at once. This improves performance and user experience by batching updates."
   ]
  },
  {
   "cell_type": "code",
   "execution_count": null,
   "id": "041163f8-d598-410c-9511-10fca7174726",
   "metadata": {},
   "outputs": [],
   "source": [
    "def create_featuremap_app(\n",
    "    adata,\n",
    "    dim_reduction=None,\n",
    "    color_by=None,\n",
    "    datashade=True,\n",
    "    width=300,\n",
    "    height=300,\n",
    "    labels=False,\n",
    "    show_widgets=True,\n",
    "):\n",
    "    \"\"\"\n",
    "    Create a configurable feature map application\n",
    "    \n",
    "    Parameters:\n",
    "    - adata: AnnData object\n",
    "    - dim_reduction: str, initial dimension reduction method\n",
    "    - color_by: str, initial coloring variable\n",
    "    - datashade: bool, whether to enable datashading\n",
    "    - width, height: int, dimensions of the plot\n",
    "    - labels: bool, whether to show labels\n",
    "    - show_widgets: bool, whether to show widgets\n",
    "    \n",
    "    Returns:\n",
    "    - app: Panel application\n",
    "    \"\"\"\n",
    "    \n",
    "    dr_options = list(adata.obsm.keys())\n",
    "    default_dr = dim_reduction or dr_options[0]\n",
    "    \n",
    "    color_options = list(adata.obs.columns)\n",
    "    default_color = color_by or color_options[0]\n",
    "    \n",
    "    def get_dim_labels(dr_key):\n",
    "        dr_label = dr_key.split('_')[1].upper()\n",
    "        num_dims = adata.obsm[dr_key].shape[1]\n",
    "        return [f\"{dr_label}{i+1}\" for i in range(num_dims)]\n",
    "    \n",
    "    initial_dims = get_dim_labels(default_dr)\n",
    "    \n",
    "    # Widgets\n",
    "    dr_select = pn.widgets.Select(name='Reduction', options=dr_options, value=default_dr)\n",
    "    x_axis = pn.widgets.Select(name='X-axis', options=initial_dims, value=initial_dims[0])\n",
    "    y_axis = pn.widgets.Select(name='Y-axis', options=initial_dims, value=initial_dims[1])\n",
    "    color = pn.widgets.Select(name='Color By', options=color_options, value=default_color)\n",
    "    datashade_switch = pn.widgets.Checkbox(name='Datashader Rasterize', value=datashade)\n",
    "    label_switch = pn.widgets.Checkbox(name='Overlay Legend Labels', value=labels)\n",
    "\n",
    "    @hold()\n",
    "    def reset_dimension_options(event):\n",
    "        new_dims = get_dim_labels(event.new)\n",
    "        x_axis.param.update(options=new_dims, value=new_dims[0])\n",
    "        y_axis.param.update(options=new_dims, value=new_dims[1])\n",
    "    \n",
    "    # Connect update func to reduction widget\n",
    "    dr_select.param.watch(reset_dimension_options, 'value')\n",
    "\n",
    "    def create_plot(dr_key, x_value, y_value, color_value, datashade_value, label_value):\n",
    "        x_data = adata.obsm[dr_key]\n",
    "        dr_label = dr_key.split('_')[1].upper()\n",
    "        \n",
    "        if x_value == y_value:\n",
    "            return pn.pane.Markdown(f\"Please select different dimensions for X and Y axes.\")\n",
    "        \n",
    "        # Extract indices from dimension labels\n",
    "        try:\n",
    "            x_dim = int(x_value.replace(dr_label, \"\")) - 1\n",
    "            y_dim = int(y_value.replace(dr_label, \"\")) - 1\n",
    "        except (ValueError, AttributeError):\n",
    "            return pn.pane.Markdown(f\"Error parsing dimensions. Make sure to select valid {dr_label} dimensions.\")\n",
    "        \n",
    "        # Get color data from .obs or X cols\n",
    "        try:\n",
    "            color_data = adata.obs[color_value].values\n",
    "        except:\n",
    "            try:\n",
    "                color_data = adata.X.getcol(adata.var_names.get_loc(color_value)).toarray().flatten()\n",
    "            except:\n",
    "                color_data = np.zeros(adata.n_obs)\n",
    "                print(f\"Warning: Could not find {color_value} in obs or var\")\n",
    "        \n",
    "        return create_featuremap_plot(\n",
    "            x_data,\n",
    "            color_data,\n",
    "            x_dim,\n",
    "            y_dim,\n",
    "            color_value,\n",
    "            x_value,\n",
    "            y_value,\n",
    "            width=width,\n",
    "            height=height,\n",
    "            datashading=datashade_value,\n",
    "            labels=label_value,\n",
    "        )\n",
    "    \n",
    "    \n",
    "    plot_pane = pn.bind(\n",
    "        create_plot,\n",
    "        dr_key=dr_select,\n",
    "        x_value=x_axis,\n",
    "        y_value=y_axis,\n",
    "        color_value=color,\n",
    "        datashade_value=datashade_switch,\n",
    "        label_value=label_switch\n",
    "    )\n",
    "    \n",
    "    widgets = pn.WidgetBox(\n",
    "        dr_select,\n",
    "        x_axis,\n",
    "        y_axis,\n",
    "        color,\n",
    "        datashade_switch,\n",
    "        label_switch,\n",
    "        visible=show_widgets,\n",
    "    )\n",
    "    \n",
    "    app = pn.Row(widgets, plot_pane)\n",
    "    return app\n",
    "\n",
    "app = create_featuremap_app(\n",
    "    adata, \n",
    "    dim_reduction='X_umap', \n",
    "    color_by='leiden',\n",
    "    width=300,\n",
    "    height=300,\n",
    ")\n",
    "app"
   ]
  },
  {
   "cell_type": "markdown",
   "id": "b2e1eec8-443f-46b0-9832-e4598a20c2af",
   "metadata": {},
   "source": [
    "### Conclusion\n",
    "In this tutorial, we've built a simple but powerful feature map visualization tool for single-cell data stored in AnnData objects. We started with preprocessing the data and basic plotting, then incrementally added more sophisticated features and created an interactive app."
   ]
  },
  {
   "cell_type": "code",
   "execution_count": null,
   "id": "cec921b7-ac9c-4d27-8cc5-a3a325389818",
   "metadata": {},
   "outputs": [],
   "source": []
  }
 ],
 "metadata": {
  "kernelspec": {
   "display_name": "Python 3 (ipykernel)",
   "language": "python",
   "name": "python3"
  },
  "language_info": {
   "codemirror_mode": {
    "name": "ipython",
    "version": 3
   },
   "file_extension": ".py",
   "mimetype": "text/x-python",
   "name": "python",
   "nbconvert_exporter": "python",
   "pygments_lexer": "ipython3",
   "version": "3.12.7"
  }
 },
 "nbformat": 4,
 "nbformat_minor": 5
}
