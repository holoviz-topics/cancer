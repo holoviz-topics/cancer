{
 "cells": [
  {
   "cell_type": "markdown",
   "id": "ecf2c8de-c9f0-4c09-bcc8-b6a602263229",
   "metadata": {},
   "source": [
    "# Feature Map Workflow"
   ]
  },
  {
   "cell_type": "markdown",
   "id": "4270bea2-414c-4b25-a2d0-b85b32c3fd9e",
   "metadata": {},
   "source": [
    "This is meant to be a walkthrough to create a UMAP-style application for anndata.\n",
    "\n",
    "Plenty left to do.. just getting some of the functionality in place "
   ]
  },
  {
   "cell_type": "code",
   "execution_count": null,
   "id": "ab724ed5-e2da-45a5-bd4f-83fb30b93c85",
   "metadata": {},
   "outputs": [],
   "source": [
    "import scanpy as sc\n",
    "import anndata as ad\n",
    "import pooch\n",
    "\n",
    "import holoviews.operation.datashader as hd\n",
    "import datashader as ds\n",
    "import colorcet as cc\n",
    "import panel as pn\n",
    "from panel.io import hold\n",
    "import numpy as np\n",
    "import holoviews as hv\n",
    "\n",
    "pn.extension()\n",
    "hv.extension('bokeh')"
   ]
  },
  {
   "cell_type": "markdown",
   "id": "746b82f0-5e3c-432c-b79b-14e4bcfa779b",
   "metadata": {},
   "source": [
    "## Ingest Data"
   ]
  },
  {
   "cell_type": "markdown",
   "id": "ca533fd7-4ed9-48d4-a24c-3b7613808319",
   "metadata": {},
   "source": [
    "Data from bone marrow mononuclear cells of healthy human donors. The samples used were measured using the 10X Multiome Gene Expression and Chromatin Accessability kit. "
   ]
  },
  {
   "cell_type": "code",
   "execution_count": null,
   "id": "61f52da3-f6b6-4bf6-a83d-a1d6298b8d67",
   "metadata": {},
   "outputs": [],
   "source": [
    "EXAMPLE_DATA = pooch.create(\n",
    "    path=pooch.os_cache(\"scverse_tutorials\"),\n",
    "    base_url=\"doi:10.6084/m9.figshare.22716739.v1/\",\n",
    ")\n",
    "EXAMPLE_DATA.load_registry_from_doi()"
   ]
  },
  {
   "cell_type": "code",
   "execution_count": null,
   "id": "ff9b3ec8-ae9a-4b05-942f-36f20347f45b",
   "metadata": {},
   "outputs": [],
   "source": [
    "%%time\n",
    "\n",
    "samples = {\n",
    "    \"s1d1\": \"s1d1_filtered_feature_bc_matrix.h5\",\n",
    "    \"s1d3\": \"s1d3_filtered_feature_bc_matrix.h5\",\n",
    "}\n",
    "adatas = {}\n",
    "\n",
    "for sample_id, filename in samples.items():\n",
    "    path = EXAMPLE_DATA.fetch(filename)\n",
    "    sample_adata = sc.read_10x_h5(path)\n",
    "    sample_adata.var_names_make_unique()\n",
    "    adatas[sample_id] = sample_adata\n",
    "\n",
    "adata = ad.concat(adatas, label=\"sample\")\n",
    "adata.obs_names_make_unique()\n",
    "print(adata.obs[\"sample\"].value_counts())\n",
    "adata"
   ]
  },
  {
   "cell_type": "markdown",
   "id": "93c30b66-4bb4-429c-9fdf-c92dfb9eba01",
   "metadata": {},
   "source": [
    "The data contains ~8,000 cells per sample and 36,601 measured genes."
   ]
  },
  {
   "cell_type": "markdown",
   "id": "7df8d063-2c10-4ce0-bdd7-c00974ea2377",
   "metadata": {},
   "source": [
    "## Data Preprocessing"
   ]
  },
  {
   "cell_type": "markdown",
   "id": "2f2cc0db-d113-4490-9f0c-2d99a5ff0dc6",
   "metadata": {},
   "source": [
    "### Common Quality Control Metrics\n",
    "\n",
    "One can pass specific gene population to {func}~scanpy.pp.calculate_qc_metrics in order to calculate proportions of counts for these populations. Mitochondrial, ribosomal and hemoglobin genes are defined by distinct prefixes as listed below."
   ]
  },
  {
   "cell_type": "code",
   "execution_count": null,
   "id": "51d59a8e-aefe-4d32-8272-f30c142303cc",
   "metadata": {},
   "outputs": [],
   "source": [
    "# mitochondrial genes, \"MT-\" for human, \"Mt-\" for mouse\n",
    "adata.var[\"mt\"] = adata.var_names.str.startswith(\"MT-\")\n",
    "# ribosomal genes\n",
    "adata.var[\"ribo\"] = adata.var_names.str.startswith((\"RPS\", \"RPL\"))\n",
    "# hemoglobin genes\n",
    "adata.var[\"hb\"] = adata.var_names.str.contains(\"^HB[^(P)]\")"
   ]
  },
  {
   "cell_type": "code",
   "execution_count": null,
   "id": "bc5eba28-6879-400c-9da3-978dfae10cad",
   "metadata": {},
   "outputs": [],
   "source": [
    "sc.pp.calculate_qc_metrics(\n",
    "    adata, qc_vars=[\"mt\", \"ribo\", \"hb\"], inplace=True, log1p=True\n",
    ")"
   ]
  },
  {
   "cell_type": "markdown",
   "id": "b23af33b-ebbc-4b6b-b18a-35bb64a7119f",
   "metadata": {},
   "source": [
    "### Filter by cells and genes\n",
    "\n",
    "We filter cells with less than 100 genes expressed and genes that are detected in less than 3 cells. "
   ]
  },
  {
   "cell_type": "code",
   "execution_count": null,
   "id": "4b85b00d-6c0e-4638-962d-95cf48e2e515",
   "metadata": {},
   "outputs": [],
   "source": [
    "sc.pp.filter_cells(adata, min_genes=100)\n",
    "sc.pp.filter_genes(adata, min_cells=3)"
   ]
  },
  {
   "cell_type": "markdown",
   "id": "b2cabf81-b490-4126-a059-306cf3f2d343",
   "metadata": {},
   "source": [
    "### Remove doublets"
   ]
  },
  {
   "cell_type": "code",
   "execution_count": null,
   "id": "06e483a0-6f42-4009-a6cd-d48e37d2f947",
   "metadata": {},
   "outputs": [],
   "source": [
    "sc.pp.scrublet(adata, batch_key=\"sample\")"
   ]
  },
  {
   "cell_type": "markdown",
   "id": "ca45a4a0-5ae2-4c4b-9461-a904e601f78a",
   "metadata": {},
   "source": [
    "### Count Depth Scaling Normalization\n",
    "\n",
    "We are applying median count depth normalization with log1p transformation (AKA log1PF).\n"
   ]
  },
  {
   "cell_type": "code",
   "execution_count": null,
   "id": "9fa0b4a2-870e-4b66-8632-aa104323d65b",
   "metadata": {},
   "outputs": [],
   "source": [
    "# Saving count data\n",
    "adata.layers[\"counts\"] = adata.X.copy()"
   ]
  },
  {
   "cell_type": "code",
   "execution_count": null,
   "id": "5e3c597f-5cf6-4c5a-bbbe-bf4754cb4406",
   "metadata": {},
   "outputs": [],
   "source": [
    "# Normalizing to median total counts\n",
    "sc.pp.normalize_total(adata)\n",
    "# Logarithmize the data\n",
    "sc.pp.log1p(adata)"
   ]
  },
  {
   "cell_type": "markdown",
   "id": "cfdd0e70-1a68-4c8e-baf0-380c63c79513",
   "metadata": {},
   "source": [
    "### Dimensionality Reduction and Feature Selection\n",
    "\n",
    "Reduce the dimensionality and only include the most informative genese."
   ]
  },
  {
   "cell_type": "code",
   "execution_count": null,
   "id": "76e5bbfd-81b7-427e-a2f6-b6dd69d61360",
   "metadata": {},
   "outputs": [],
   "source": [
    "sc.pp.highly_variable_genes(adata, n_top_genes=2000, batch_key=\"sample\")"
   ]
  },
  {
   "cell_type": "markdown",
   "id": "4d79d923-845b-40a5-966c-7708195e274c",
   "metadata": {},
   "source": [
    "Reduce the dimensionality of the data by running principal component analysis (PCA), which reveals the main axes of variation and denoises the data."
   ]
  },
  {
   "cell_type": "code",
   "execution_count": null,
   "id": "fdb34376-712a-4605-a685-719973b4eeec",
   "metadata": {},
   "outputs": [],
   "source": [
    "sc.tl.pca(adata)"
   ]
  },
  {
   "cell_type": "markdown",
   "id": "2f2b25b6-e20c-42e1-b1f3-c1c8244e18dd",
   "metadata": {},
   "source": [
    "Inspect the contribution of single PCs to the total variance in the data. This gives us information about how many PCs we should consider in order to compute the neighborhood relations of cells."
   ]
  },
  {
   "cell_type": "code",
   "execution_count": null,
   "id": "cc5b97b2-c567-4a0e-a10d-79a1de023953",
   "metadata": {},
   "outputs": [],
   "source": [
    "sc.pl.pca_variance_ratio(adata, n_pcs=50, log=True)"
   ]
  },
  {
   "cell_type": "markdown",
   "id": "06e4b519-5ddb-4737-a485-20ae94266819",
   "metadata": {},
   "source": [
    "## Nearest neighbor graph constuction\n",
    "\n",
    "Let us compute the neighborhood graph of cells using the PCA representation of the data matrix."
   ]
  },
  {
   "cell_type": "code",
   "execution_count": null,
   "id": "9347fc2d-b6c5-464d-9ccb-7e111bcf7d54",
   "metadata": {},
   "outputs": [],
   "source": [
    "sc.pp.neighbors(adata)"
   ]
  },
  {
   "cell_type": "markdown",
   "id": "1f59bd6c-536d-4153-83f8-ec8ab8e9e960",
   "metadata": {},
   "source": [
    "This graph can then be embedded in two dimensions for visualiztion with UMAP (McInnes et al., 2018):"
   ]
  },
  {
   "cell_type": "code",
   "execution_count": null,
   "id": "2a9f001c-6ede-4a98-8598-38a2278c45f2",
   "metadata": {},
   "outputs": [],
   "source": [
    "sc.tl.umap(adata)"
   ]
  },
  {
   "cell_type": "markdown",
   "id": "9d6f7a69-2024-4819-91bf-53dc0d4f404b",
   "metadata": {},
   "source": [
    "We can now visualize the UMAP according to the `sample`. "
   ]
  },
  {
   "cell_type": "markdown",
   "id": "713bf07d-c700-493d-a8b5-634ba5c1df17",
   "metadata": {},
   "source": [
    "## Clustering\n",
    "\n",
    "Use the Leiden graph-clustering method (community detection based on optimizing modularity) {cite}`Traag2019`. Leiden clustering directly clusters the neighborhood graph of cells, which we already computed in the previous section."
   ]
  },
  {
   "cell_type": "code",
   "execution_count": null,
   "id": "eb12ca9a-48c7-49f9-985d-0b2c9524e98f",
   "metadata": {},
   "outputs": [],
   "source": [
    "%%time\n",
    "\n",
    "# Note: Using the `igraph` implementation and a fixed number of iterations \n",
    "# can be significantly faster, especially for larger datasets\n",
    "sc.tl.leiden(adata, flavor=\"igraph\", n_iterations=2)"
   ]
  },
  {
   "cell_type": "markdown",
   "id": "d8b2f734-6008-430b-9148-827c33b1217e",
   "metadata": {},
   "source": [
    "## Build a Feature Map Explorer"
   ]
  },
  {
   "cell_type": "markdown",
   "id": "4f9a9d75-e113-4bba-95d7-13255f00bb71",
   "metadata": {},
   "source": [
    "We'll build it step-by-step, starting with the basic components and gradually adding more functionality."
   ]
  },
  {
   "cell_type": "markdown",
   "id": "7fbd5145-fc6b-45da-bf78-93f8ca3cbc14",
   "metadata": {},
   "source": [
    "### Creating the Basic Plot Function"
   ]
  },
  {
   "cell_type": "markdown",
   "id": "fd5e5731-7cb9-425c-a9dc-bd7b3eeddeb8",
   "metadata": {},
   "source": [
    "Let's start by creating a function to generate a simple dimensional reduction plot. This function will take data and create a scatter plot:"
   ]
  },
  {
   "cell_type": "code",
   "execution_count": null,
   "id": "d9797852-9ee9-4a49-bd89-a75eb5c59439",
   "metadata": {},
   "outputs": [],
   "source": [
    "def create_basic_featuremap(x_data, x_dim, y_dim, xaxis_label, yaxis_label, width=300, height=300):\n",
    "    \"\"\"\n",
    "    Create a basic scatter plot of dimensional reduction data\n",
    "    \n",
    "    Parameters:\n",
    "    - x_data: numpy.ndarray, shape n_obs by n_dimensions\n",
    "    - x_dim, y_dim: int, indices into x_data's dimension to use as x or y data\n",
    "    - xaxis_label, yaxis_label: str, labels for the axes\n",
    "    - width, height: int, dimensions of the plot\n",
    "    \"\"\"\n",
    "    plot = hv.Points(\n",
    "        (x_data[:, x_dim], x_data[:, y_dim]),\n",
    "        [xaxis_label, yaxis_label]\n",
    "    )\n",
    "    \n",
    "    plot = plot.opts(\n",
    "        size=1,\n",
    "        alpha=0.5,\n",
    "        tools=['hover'],\n",
    "        frame_width=width,\n",
    "        frame_height=height\n",
    "    )\n",
    "    \n",
    "    return plot\n",
    "\n",
    "pca_data = adata.obsm['X_pca']\n",
    "basic_plot = create_basic_featuremap(\n",
    "    pca_data,\n",
    "    x_dim=0,\n",
    "    y_dim=1,\n",
    "    xaxis_label='PC1',\n",
    "    yaxis_label='PC2',\n",
    "    width=300,\n",
    "    height=300\n",
    ")\n",
    "basic_plot"
   ]
  },
  {
   "cell_type": "markdown",
   "id": "82cadfc0-8449-4e9d-8e3b-46920ca1ea1f",
   "metadata": {},
   "source": [
    "### Adding Color Support\n",
    "Now, let's enhance our plot by adding color to represent different variables:"
   ]
  },
  {
   "cell_type": "markdown",
   "id": "134e2d33-5e09-440e-bc21-bbb71ae8c688",
   "metadata": {},
   "source": [
    "### Adding Datashader Support\n",
    "For large datasets, we need datashader to efficiently render the points:"
   ]
  },
  {
   "cell_type": "markdown",
   "id": "ce155ff6-98cf-463b-ab3d-3151ec8be091",
   "metadata": {},
   "source": [
    "### Adding Labels Support\n",
    "Now, let's add the ability to display labels at the median position of each category"
   ]
  },
  {
   "cell_type": "markdown",
   "id": "af90fb77-64fe-4757-8a85-143603462156",
   "metadata": {},
   "source": [
    "### Creating an Interactive App\n",
    "Finally, let's put it all together, creatign an interactive application with Panel:"
   ]
  },
  {
   "cell_type": "code",
   "execution_count": null,
   "id": "213a23a9-2772-4e89-b031-d25f8c32fc7c",
   "metadata": {},
   "outputs": [],
   "source": [
    "def create_featuremap_plot(\n",
    "    x_data, color_data, x_dim, y_dim, color_var, xaxis_label, yaxis_label,\n",
    "    width=300, height=300, datashading=False, labels=False,\n",
    "    cont_cmap = 'Viridis',\n",
    "    cat_cmap = cc.b_glasbey_category10):\n",
    "    \"\"\"\n",
    "    Create a cluster points plot\n",
    "\n",
    "    Parameters:\n",
    "    - x_data: numpy.ndarray, shape n_obs by n_clusters\n",
    "    - x_dim, y_dim: int, indices into x_data's cluster dim to use as x or y data.\n",
    "    - color_data: numpy.ndarray, shape n_obs color values (categorical or continuous).\n",
    "    - color_var: str, the name to give the coloring dim.\n",
    "    - xaxis_label, yaxis_label: str, labels for the axes.\n",
    "    - width, height: int, dimensions of the plot.\n",
    "    - datashading: bool, whether to apply Datashader.\n",
    "    - labels: bool, whether to overlay labels at median positions.\n",
    "\n",
    "    \"\"\"\n",
    "    is_categorical = (\n",
    "        color_data.dtype.name in ['category', 'categorical', 'bool'] or\n",
    "        np.issubdtype(color_data.dtype, np.object_) or\n",
    "        np.issubdtype(color_data.dtype, np.str_)\n",
    "    )\n",
    "    \n",
    "    if is_categorical:\n",
    "        n_unq_cat = len(np.unique(color_data))\n",
    "        cmap = cat_cmap[:n_unq_cat]\n",
    "        colorbar = False\n",
    "        if labels:\n",
    "            show_legend = False\n",
    "        else:\n",
    "            show_legend = True\n",
    "    else:\n",
    "        cmap = cont_cmap\n",
    "        show_legend = False\n",
    "        colorbar = True\n",
    "\n",
    "    plot = hv.Points(\n",
    "        (x_data[:, x_dim], x_data[:, y_dim], color_data),\n",
    "        [xaxis_label, yaxis_label], color_var\n",
    "    )\n",
    "\n",
    "    plot_opts = dict(\n",
    "        color=color_var,\n",
    "        cmap=cmap,\n",
    "        size=1,\n",
    "        alpha=0.5,\n",
    "        colorbar=colorbar,\n",
    "        padding=0,\n",
    "        tools=['hover'],\n",
    "        show_legend=show_legend,\n",
    "        legend_position='right',\n",
    "    )\n",
    "\n",
    "    label_opts = dict(\n",
    "        text_font_size='8pt',\n",
    "        text_color='black'\n",
    "    )\n",
    "\n",
    "    if datashading:\n",
    "        if is_categorical:\n",
    "            aggregator = ds.count_cat(color_var)\n",
    "            plot = hd.rasterize(plot, aggregator=aggregator)\n",
    "            plot = hd.dynspread(plot, threshold=0.5)\n",
    "            plot = plot.opts(cmap=cmap, tools=['hover'])\n",
    "\n",
    "            if labels:\n",
    "                unique_categories = np.unique(color_data)\n",
    "                labels_data = []\n",
    "                for cat in unique_categories:\n",
    "                    mask = color_data == cat\n",
    "                    median_x = np.median(x_data[mask, x_dim])\n",
    "                    median_y = np.median(x_data[mask, y_dim])\n",
    "                    labels_data.append((median_x, median_y, str(cat)))\n",
    "                labels_element = hv.Labels(labels_data, [xaxis_label, yaxis_label], 'Label').opts(**label_opts)\n",
    "                plot = plot * labels_element\n",
    "            else:\n",
    "                # Create a custom legend with dummy scatter plot hack\n",
    "                unique_categories = np.unique(color_data)\n",
    "                color_key = dict(zip(unique_categories, cmap[:len(unique_categories)]))\n",
    "                legend_items = [\n",
    "                    hv.Points([0,0], label=str(cat)).opts(\n",
    "                        color=color_key[cat],\n",
    "                        size=0\n",
    "                    ) for cat in unique_categories\n",
    "                ]\n",
    "                legend = hv.NdOverlay({str(cat): item for cat, item in zip(unique_categories, legend_items)}).opts(\n",
    "                    show_legend=True,\n",
    "                    legend_position='right',\n",
    "                    legend_limit=1000,\n",
    "                    legend_cols= len(unique_categories) // 8,\n",
    "                )\n",
    "                plot = plot * legend\n",
    "\n",
    "        else:\n",
    "            aggregator = ds.mean(color_var)\n",
    "            plot = hd.rasterize(plot, aggregator=aggregator)\n",
    "            plot = hd.dynspread(plot, threshold=0.5)\n",
    "            plot = plot.opts(cmap=cmap, colorbar=colorbar)\n",
    "    else:\n",
    "        plot = plot.opts(**plot_opts)\n",
    "        if is_categorical and labels:\n",
    "            unique_categories = np.unique(color_data)\n",
    "            labels_data = []\n",
    "            for cat in unique_categories:\n",
    "                mask = color_data == cat\n",
    "                median_x = np.median(x_data[mask, x_dim])\n",
    "                median_y = np.median(x_data[mask, y_dim])\n",
    "                labels_data.append((median_x, median_y, str(cat)))\n",
    "            labels_element = (hv.Labels(labels_data, [xaxis_label, yaxis_label], 'Label')\n",
    "                              .opts(**label_opts)\n",
    "                             )\n",
    "            plot = plot * labels_element\n",
    "\n",
    "    return plot.opts(\n",
    "        title=f\"{color_var}\",\n",
    "        tools=['hover'],\n",
    "        show_legend=show_legend,\n",
    "        frame_width=width,\n",
    "        frame_height=height\n",
    "    )\n",
    "\n",
    "\n",
    "\n",
    "def layout_dimreduction_plots(adata, color, dimensions, width=200, height=200, dim_reduction='X_pca', labels=False):\n",
    "    dr_key = dim_reduction\n",
    "    dr_label = dr_key.split('_')[1].upper()\n",
    "    plots = []\n",
    "    x_data = adata.obsm[dr_key]\n",
    "    for color_var, (x_dim, y_dim) in zip(color, dimensions):\n",
    "        try: # color per derived obs\n",
    "            color_data = adata.obs[color_var].values\n",
    "        except: # color per gene expression\n",
    "            color_data = adata.X.getcol(adata.var_names.get_loc(color_var)).toarray().flatten()\n",
    "        plot = create_featuremap_plot(\n",
    "            x_data, color_data, x_dim, y_dim, color_var,\n",
    "            f'{dr_label}{x_dim + 1}', f'{dr_label}{y_dim + 1}',\n",
    "            width=width,\n",
    "            height=height,\n",
    "            datashading=True,\n",
    "            labels=labels,\n",
    "        )\n",
    "        plots.append(plot)\n",
    "    return hv.Layout(plots).opts(shared_axes=False, axiswise=True)\n",
    "\n",
    "def featuremap_app(\n",
    "    adata,\n",
    "    dim_reduction=None,\n",
    "    color_by=None,\n",
    "    datashade=True,\n",
    "    show_widgets=True,\n",
    "    width=200,\n",
    "    height=200,\n",
    "    labels=False,\n",
    "):\n",
    "    \n",
    "    color_options = list(adata.obs.columns)\n",
    "    default_color = color_by or color_options[0]\n",
    "\n",
    "    # Map dimension reduction methods to their labels\n",
    "    dr_options = {key: key.split('_')[1].upper() for key in adata.obsm.keys()}\n",
    "    default_dr = dim_reduction or list(dr_options.keys())[0]\n",
    "\n",
    "    x_data = adata.obsm[default_dr]\n",
    "    num_dims = x_data.shape[1]\n",
    "\n",
    "    dr_label = dr_options[default_dr]\n",
    "    dim_labels = [f\"{dr_label}{i+1}\" for i in range(num_dims)]\n",
    "    dim_mapping = {label: index for index, label in enumerate(dim_labels)}\n",
    "\n",
    "    dr_select = pn.widgets.Select(\n",
    "        name='Dim Reduction', options=list(dr_options.keys()), value=default_dr\n",
    "    )\n",
    "    xaxis = pn.widgets.Select(name='X-axis', options=dim_labels, value=dim_labels[0])\n",
    "    yaxis = pn.widgets.Select(name='Y-axis', options=dim_labels, value=dim_labels[1])\n",
    "    color = pn.widgets.Select(name='Color By', options=color_options, value=default_color)\n",
    "    datashading_switch = pn.widgets.Checkbox(name='Enable Datashader', value=datashade)\n",
    "\n",
    "    def update_plot(dr_select_value, xaxis_value, yaxis_value, color_value, datashading_value):\n",
    "        x_data = adata.obsm[dr_select_value]\n",
    "        dr_label = dr_options[dr_select_value]\n",
    "        num_dims = x_data.shape[1]\n",
    "        dim_labels = [f\"{dr_label}{i+1}\" for i in range(num_dims)]\n",
    "        dim_mapping = {label: index for index, label in enumerate(dim_labels)}\n",
    "\n",
    "        x_dim = dim_mapping[xaxis_value]\n",
    "        y_dim = dim_mapping[yaxis_value]\n",
    "        color_data = adata.obs[color_value].values\n",
    "\n",
    "        return create_featuremap_plot(\n",
    "            x_data,\n",
    "            color_data,\n",
    "            x_dim,\n",
    "            y_dim,\n",
    "            color_value,\n",
    "            xaxis_value,\n",
    "            yaxis_value,\n",
    "            width=width,\n",
    "            height=height,\n",
    "            datashading=datashading_value,\n",
    "            labels=labels,\n",
    "        )\n",
    "\n",
    "    plot_pane = pn.bind(\n",
    "        update_plot,\n",
    "        dr_select_value=dr_select,\n",
    "        xaxis_value=xaxis,\n",
    "        yaxis_value=yaxis,\n",
    "        color_value=color,\n",
    "        datashading_value=datashading_switch,\n",
    "    )\n",
    "\n",
    "    @hold()\n",
    "    def update_axis_options(event):\n",
    "        x_data = adata.obsm[event.new]\n",
    "        num_dims = x_data.shape[1]\n",
    "        dr_label = dr_options[event.new]\n",
    "        new_dim_labels = [f\"{dr_label}{i+1}\" for i in range(num_dims)]\n",
    "        xaxis.options = new_dim_labels\n",
    "        yaxis.options = new_dim_labels\n",
    "        xaxis.value = new_dim_labels[0]\n",
    "        yaxis.value = new_dim_labels[1]\n",
    "\n",
    "    dr_select.param.watch(update_axis_options, 'value')\n",
    "\n",
    "    # Ensure x-axis and y-axis selections are different\n",
    "    def enforce_different_axes(event):\n",
    "        if xaxis.value == yaxis.value:\n",
    "            available_options = [opt for opt in yaxis.options if opt != xaxis.value]\n",
    "            if available_options:\n",
    "                yaxis.value = available_options[0]\n",
    "\n",
    "    xaxis.param.watch(enforce_different_axes, 'value')\n",
    "    yaxis.param.watch(enforce_different_axes, 'value')\n",
    "\n",
    "    widgets = pn.WidgetBox(dr_select, xaxis, yaxis, color, datashading_switch)\n",
    "    if show_widgets:\n",
    "        app = pn.Row(widgets, plot_pane)\n",
    "    else:\n",
    "        app = pn.Row(plot_pane)\n",
    "    return app"
   ]
  },
  {
   "cell_type": "code",
   "execution_count": null,
   "id": "67d74c73-96fc-4ad8-b461-a7d962590f18",
   "metadata": {},
   "outputs": [],
   "source": [
    "featuremap_app(adata, dim_reduction='X_umap', color_by='leiden')"
   ]
  },
  {
   "cell_type": "code",
   "execution_count": null,
   "id": "e542268a-230f-46c7-96b0-0a9d7e47e700",
   "metadata": {},
   "outputs": [],
   "source": [
    "# layout = layout_dimreduction_plots(\n",
    "#     adata=adata,\n",
    "#     color=[\"leiden\", \"log1p_total_counts\", \"pct_counts_mt\", \"log1p_n_genes_by_counts\"],\n",
    "#     dimensions=[(0, 1)]*4,\n",
    "#     dim_reduction='X_umap',\n",
    "# )\n",
    "# layout.cols(2)"
   ]
  },
  {
   "cell_type": "code",
   "execution_count": null,
   "id": "ada95f7e-7a76-43eb-899d-8f4db52ebd9f",
   "metadata": {},
   "outputs": [],
   "source": []
  }
 ],
 "metadata": {
  "kernelspec": {
   "display_name": "nci",
   "language": "python",
   "name": "python3"
  },
  "language_info": {
   "codemirror_mode": {
    "name": "ipython",
    "version": 3
   },
   "file_extension": ".py",
   "mimetype": "text/x-python",
   "name": "python",
   "nbconvert_exporter": "python",
   "pygments_lexer": "ipython3",
   "version": "3.12.7"
  }
 },
 "nbformat": 4,
 "nbformat_minor": 5
}
