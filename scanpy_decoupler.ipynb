{
 "cells": [
  {
   "cell_type": "code",
   "execution_count": null,
   "id": "3c975860",
   "metadata": {},
   "outputs": [],
   "source": [
    "# /// script\n",
    "# requires-python = \">=3.12\"\n",
    "# dependencies = [\n",
    "#     \"anndata\",\n",
    "#     \"dask-expr\",\n",
    "#     \"datashader\",\n",
    "#     \"decoupler\",\n",
    "#     \"holoviews\",\n",
    "#     \"hvplot\",\n",
    "#     \"shapely\",\n",
    "#     \"spatialpandas\",\n",
    "#     \"scanpy\",\n",
    "#     \"omnipath\",\n",
    "# ]\n",
    "# ///"
   ]
  },
  {
   "cell_type": "markdown",
   "id": "ded7e71d-f164-4216-9c64-9660c958b60d",
   "metadata": {},
   "source": [
    "# Cell type annotation from marker genes\n",
    "\n",
    "Reproducing the deoulpeR [vignette for annotation](https://decoupler-py.readthedocs.io/en/latest/notebooks/cell_annotation.html)."
   ]
  },
  {
   "cell_type": "code",
   "execution_count": null,
   "id": "c22ce0f3",
   "metadata": {},
   "outputs": [],
   "source": [
    "import scanpy as sc\n",
    "import decoupler as dc\n",
    "import numpy as np"
   ]
  },
  {
   "cell_type": "code",
   "execution_count": null,
   "id": "55573ca0-9ca5-4eb7-89f2-83ab9ebc036d",
   "metadata": {},
   "outputs": [],
   "source": [
    "import anndata as ad\n",
    "adata = ad.read_h5ad('adata.h5ad')"
   ]
  },
  {
   "cell_type": "code",
   "execution_count": null,
   "id": "afd3e952-8f67-40a6-ab52-c4df64e57772",
   "metadata": {},
   "outputs": [],
   "source": [
    "adata"
   ]
  },
  {
   "cell_type": "code",
   "execution_count": null,
   "id": "213dffc3-48b2-4ca4-8d85-45baa8b1e4f7",
   "metadata": {},
   "outputs": [],
   "source": [
    "markers = dc.get_resource('PanglaoDB')\n",
    "markers"
   ]
  },
  {
   "cell_type": "code",
   "execution_count": null,
   "id": "d9f67986-ed0b-46a2-a4bc-690060ccb9cf",
   "metadata": {},
   "outputs": [],
   "source": [
    "# Filter by canonical_marker and human\n",
    "markers = markers[markers['human'] & markers['canonical_marker'] & (markers['human_sensitivity'] > 0.5)]\n",
    "\n",
    "# Remove duplicated entries\n",
    "markers = markers[~markers.duplicated(['cell_type', 'genesymbol'])]\n",
    "markers"
   ]
  },
  {
   "cell_type": "code",
   "execution_count": null,
   "id": "a3cb47ac-7a69-457f-a81f-bf374ffb4393",
   "metadata": {},
   "outputs": [],
   "source": [
    "dc.run_ora(\n",
    "    mat=adata,\n",
    "    net=markers,\n",
    "    source='cell_type',\n",
    "    target='genesymbol',\n",
    "    min_n=3,\n",
    "    verbose=True,\n",
    "    use_raw=False\n",
    ")"
   ]
  },
  {
   "cell_type": "code",
   "execution_count": null,
   "id": "0fccca28-70ca-440c-a158-db92c60f4ff1",
   "metadata": {},
   "outputs": [],
   "source": [
    "adata.obsm['ora_estimate']"
   ]
  },
  {
   "cell_type": "code",
   "execution_count": null,
   "id": "8c00a3f3-05c4-42fd-a959-28339e137e7c",
   "metadata": {},
   "outputs": [],
   "source": [
    "acts = dc.get_acts(adata, obsm_key='ora_estimate')\n",
    "\n",
    "# We need to remove inf and set them to the maximum value observed for pvals=0\n",
    "acts_v = acts.X.ravel()\n",
    "max_e = np.nanmax(acts_v[np.isfinite(acts_v)])\n",
    "acts.X[~np.isfinite(acts.X)] = max_e\n",
    "\n",
    "acts"
   ]
  },
  {
   "cell_type": "code",
   "execution_count": null,
   "id": "c47df83a-0040-4285-b555-75253f4e6ddf",
   "metadata": {},
   "outputs": [],
   "source": [
    "sc.pl.umap(acts, color=['NK cells', 'leiden'], cmap='RdBu_r')\n",
    "sc.pl.violin(acts, keys=['NK cells'], groupby='leiden')"
   ]
  },
  {
   "cell_type": "code",
   "execution_count": null,
   "id": "2894ecb5-b441-4971-9478-70c56c0cdc1c",
   "metadata": {},
   "outputs": [],
   "source": [
    "df = dc.rank_sources_groups(acts, groupby='leiden', reference='rest', method='t-test_overestim_var')\n",
    "df"
   ]
  },
  {
   "cell_type": "code",
   "execution_count": null,
   "id": "adbbed92-e0e4-4130-91fc-6dfbefd78385",
   "metadata": {},
   "outputs": [],
   "source": [
    "n_ctypes = 3\n",
    "ctypes_dict = df.groupby('group').head(n_ctypes).groupby('group')['names'].apply(lambda x: list(x)).to_dict()\n",
    "ctypes_dict"
   ]
  },
  {
   "cell_type": "code",
   "execution_count": null,
   "id": "60b1853b-3911-48b3-96d7-5df9113bf464",
   "metadata": {},
   "outputs": [],
   "source": [
    "sc.pl.matrixplot(acts, ctypes_dict, 'leiden', dendrogram=True, standard_scale='var',\n",
    "                 colorbar_title='Z-scaled scores', cmap='RdBu_r')"
   ]
  },
  {
   "cell_type": "code",
   "execution_count": null,
   "id": "26115227-bad9-4d07-beaa-a9997425c5c4",
   "metadata": {},
   "outputs": [],
   "source": [
    "sc.pl.violin(acts, keys=['Gamma delta T cells', 'B cells', 'Platelets', 'Enterocytes', 'NK cells'], groupby='leiden')"
   ]
  },
  {
   "cell_type": "code",
   "execution_count": null,
   "id": "bd79dd4f-8305-4b57-b3f4-670fdc2fa3df",
   "metadata": {},
   "outputs": [],
   "source": [
    "annotation_dict = df.groupby('group').head(1).set_index('group')['names'].to_dict()\n",
    "annotation_dict"
   ]
  },
  {
   "cell_type": "code",
   "execution_count": null,
   "id": "e3145889-cf15-4425-a114-d3e6f9f539e9",
   "metadata": {},
   "outputs": [],
   "source": [
    "# Add cell type column based on annotation\n",
    "adata.obs['cell_type'] = [annotation_dict[clust] for clust in adata.obs['leiden']]\n",
    "\n",
    "# Visualize\n",
    "sc.pl.umap(adata, color='cell_type')"
   ]
  },
  {
   "cell_type": "code",
   "execution_count": null,
   "id": "c4428a6b-bf7a-4363-a6d6-1a15dd9cedff",
   "metadata": {},
   "outputs": [],
   "source": [
    "adata.write(filename='adata-annotated.h5ad')"
   ]
  }
 ],
 "metadata": {
  "kernelspec": {
   "display_name": "Python 3 (ipykernel)",
   "language": "python",
   "name": "python3"
  },
  "language_info": {
   "codemirror_mode": {
    "name": "ipython",
    "version": 3
   },
   "file_extension": ".py",
   "mimetype": "text/x-python",
   "name": "python",
   "nbconvert_exporter": "python",
   "pygments_lexer": "ipython3",
   "version": "3.12.7"
  }
 },
 "nbformat": 4,
 "nbformat_minor": 5
}
